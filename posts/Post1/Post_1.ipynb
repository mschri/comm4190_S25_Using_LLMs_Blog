{
 "cells": [
  {
   "cell_type": "raw",
   "id": "5c142e25-862e-4358-9891-89310ecac9ef",
   "metadata": {},
   "source": [
    "---\n",
    "title: \"Chatgpt: Can It Really Perform Simple Calculations?\"\n",
    "description: \"Using Chatgpt to answer math problems\"\n",
    "author: \"An LLM user\"\n",
    "date: \"2/3/2025\"\n",
    "categories:\n",
    "    -generative AI\n",
    "    -Prompting\n",
    "    -Logic, calculations\n",
    "---"
   ]
  },
  {
   "cell_type": "markdown",
   "id": "d54e5ba0-8752-4b6c-b490-26a06fd0cc79",
   "metadata": {},
   "source": [
    "## What is 1+1?\n",
    "\n",
    "Most people can answer the above question with ease. It's one of the simplest forms of an arithmetic operation that doesn't require one with a math degree to perform.\n",
    "\n",
    "Likewise, Chatgpt knows knows how to answer this question with a comparable level of dexerity. Prompt it with the question, \"what is 1+1?\" and it will spit out \"1+1 equals 2!\" with gumption. This is simple enough, and its answer it entirely accurate. In other words, Chatgpt for the most part produces reliable answers and *can* be incredibly helpful with regards to solving more and more complex math problems."
   ]
  },
  {
   "cell_type": "markdown",
   "id": "184456dd-33f8-4769-9dc1-f06a8b3662d4",
   "metadata": {},
   "source": [
    "<img src=\"pic1.png\" width=\"100%\"/>"
   ]
  },
  {
   "cell_type": "markdown",
   "id": "9c6081a5-52ab-404d-bfa1-7d5a4de10100",
   "metadata": {},
   "source": [
    "## How Does it Work?\n",
    "\n",
    "You might think the model relies on some sort of basic calculator to add up these numbers. That would certainly appear to be easiest, most commonsensical means of solving these kinds of questions. However, Chatgpt is primarily a large language model designed to predict the following text, rather than perform actual calculations. In other words, it's a model trained on a vast amount of text data-gathered from across the internet and various databases of information-detecting and sorting out patterns according to this data, as opposed to *actually* performing these kinds of calculations."
   ]
  },
  {
   "cell_type": "markdown",
   "id": "c7e0efa3-0646-440a-9920-a8277e8faad7",
   "metadata": {},
   "source": [
    "## Thinking: Humans vs LLMs"
   ]
  },
  {
   "cell_type": "markdown",
   "id": "557d6374-3499-42b3-8654-b318e19941e2",
   "metadata": {},
   "source": [
    "While humans on the one hand might go about solving this calculation via a number of different ways (i.e. counting the fingers on your hand, drawing out circles and counting the total number drawn, etc.), using a primarily visual and basic understandings of such arithmetic operations, Chatgpt doesn't necessarily share this direct understanding with respect to math and number concepts. Instead, as it does with text-based prompts like asking it to finish a sentence, it \"guesses\" and assumes the answer to questions like \"what's 1+1?,\" based on the extensive text data its trained on. "
   ]
  },
  {
   "cell_type": "markdown",
   "id": "155e981c-392a-46aa-bb89-c0a353c876d4",
   "metadata": {},
   "source": [
    "<img src=\"pic2.png\" width=\"100%\"/>"
   ]
  },
  {
   "cell_type": "markdown",
   "id": "ac59a681-89f2-40a1-85e9-58074db90ba8",
   "metadata": {},
   "source": [
    "Because there's roughly millions, probably even billions of correct answers available online to the question \"what's 1+1?,\" the model can accurately generate an answer because it's pulling the answer out of this data. This is all to say that it can do relatively well when prompted mostly simple questions along these lines. Further, its accuracy can hold up fairly well when answering more and more complex questions. However, anyone pursuing higher levels of math looking to Chatgpt to help answer their homework questions will find that in many instances the results it produces contains several flaws.\n",
    "\n",
    "<img src=\"pic3.png\" width=\"100%\"/>\n",
    "<img src=\"pic4.png\" width=\"100%\"/>"
   ]
  },
  {
   "cell_type": "markdown",
   "id": "c48617bf-ec97-440d-a741-5eba1a9da5dd",
   "metadata": {},
   "source": [
    "**Here, the LLM produced a correct final answer (following the proper operations and row calculations) when finding solutions for a given matrix**"
   ]
  },
  {
   "cell_type": "markdown",
   "id": "a27fef54-8c50-4802-a588-f0c9ed00846f",
   "metadata": {},
   "source": [
    "<img src=\"pic5.png\" width=\"75%\"/>"
   ]
  },
  {
   "cell_type": "markdown",
   "id": "bb08f9e1-b2d9-4c2b-9630-624ae5970aa2",
   "metadata": {},
   "source": [
    "<img src=\"pic6.png\" width=\"75%\"/>"
   ]
  },
  {
   "cell_type": "markdown",
   "id": "790834f1-b601-4d4e-86c8-16e4f4af5519",
   "metadata": {},
   "source": [
    "<img src=\"pic7.png\" width=\"80%\"/>"
   ]
  },
  {
   "cell_type": "markdown",
   "id": "aa2ce9e9-da9f-407b-9776-d7226641c01f",
   "metadata": {},
   "source": [
    "**I won't bother showing all the rest of the calculations performed...this is just to show how extensive and complex the problem becomes. The point here is this:**"
   ]
  },
  {
   "cell_type": "markdown",
   "id": "6ce8bf28-4eca-4cfd-9fd8-9152ad2dfe86",
   "metadata": {},
   "source": [
    "<img src=\"pic8.png\" width=\"80%\"/>"
   ]
  },
  {
   "cell_type": "markdown",
   "id": "1719a47b-eca8-4916-89c6-6bacb9f8b5c2",
   "metadata": {},
   "source": [
    "**The final solution was completely wrong, simply because it performed a very basic arithmetic operation incorrectly (adding instead of subtracting)!**"
   ]
  },
  {
   "cell_type": "markdown",
   "id": "41380caa-755e-40f3-86ad-893574f900d0",
   "metadata": {},
   "source": [
    "## The Problem"
   ]
  },
  {
   "cell_type": "markdown",
   "id": "a2d9baf9-2ac5-4bdb-9490-af1ddca19ec2",
   "metadata": {},
   "source": [
    "The reason it may fail when asked these more complex questions is not necessarily because the question itself is difficult, given that it's is pulling from a wide range of textual information from people who've answered-or attempted to answer-questions like the one you're trying to answer. And, as we showed before, it \"knows\" how to answer simple math questions. What does become more problematic is when these simple calculations are incorporated within more complicated contexts. When trying to answer, it might discover linguistic patterns and information that are improperly aligned, given the higher complexity of the question. In turn, the model might generate incorrect answers or contain inaccuracies in the event it's trained on these conflicting information patterns."
   ]
  },
  {
   "cell_type": "markdown",
   "id": "f4f452bb-1e17-4d85-bd59-58c116834f02",
   "metadata": {},
   "source": [
    "<img src=\"pic9.png\" width=\"90%\"/>\n",
    "\n",
    "**Here, it spits out the correct solution when you target its mistake and re-prompt; again, this wasn't due to a gap in understanding, but simply because LLMs aren't embedded with their own, personal calculators that they can rely on.**"
   ]
  },
  {
   "cell_type": "markdown",
   "id": "3b8a724e-85db-4a08-8dbc-9a0c623ba2f2",
   "metadata": {},
   "source": [
    "## So...Abandon ChatGPT?"
   ]
  },
  {
   "cell_type": "markdown",
   "id": "2aef470a-d0f3-4661-b8e4-f24f3799ebda",
   "metadata": {},
   "source": [
    "This, by no means, calls for the end of ChatGPT-at least as far as some basic homework help or concept understanding. It can still be a useful tool when attempting to work out bigger picture concepts, and you can certainly always ask ChatGPT explain its own mistakes by prompting it to go through its own reasoning step-by-step."
   ]
  },
  {
   "cell_type": "markdown",
   "id": "46d9e8d2-6972-4994-ad31-1414a43f3c59",
   "metadata": {},
   "source": [
    "*Insert pic of prompting chat: \"did you do something wrong\" etc/"
   ]
  },
  {
   "cell_type": "markdown",
   "id": "d9ebdd7d-5607-4791-a1ea-457ad11639de",
   "metadata": {},
   "source": [
    "This experiment was not necessarily meant to expose the shortcomings of the model and contribute to the anti-AI narrative (whether or not that's actually a founded argument...); what it does do is serve as an example of some of the current ways in which ChatGPT learns and processes information, and how that differ from human reasoning!"
   ]
  },
  {
   "cell_type": "code",
   "execution_count": null,
   "id": "5023ab31-73c9-4a8c-8dcf-e9f8c0da07e1",
   "metadata": {},
   "outputs": [],
   "source": []
  }
 ],
 "metadata": {
  "kernelspec": {
   "display_name": "Python 3 (ipykernel)",
   "language": "python",
   "name": "python3"
  },
  "language_info": {
   "codemirror_mode": {
    "name": "ipython",
    "version": 3
   },
   "file_extension": ".py",
   "mimetype": "text/x-python",
   "name": "python",
   "nbconvert_exporter": "python",
   "pygments_lexer": "ipython3",
   "version": "3.10.12"
  }
 },
 "nbformat": 4,
 "nbformat_minor": 5
}
