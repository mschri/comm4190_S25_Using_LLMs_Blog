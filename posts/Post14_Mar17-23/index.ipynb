{
 "cells": [
  {
   "cell_type": "raw",
   "id": "8a927311-5b11-4636-b5f4-969e5491bd31",
   "metadata": {},
   "source": [
    "---\n",
    "title: \"How About Another Puzzle?\"\n",
    "description: \"Prompting Different LLMs to Solve Various Puzzle Challenges Part 2\"\n",
    "author: \"Miranda Schriver\"\n",
    "date: \"3/25/2025\"\n",
    "categories:\n",
    "  - LLMs\n",
    "  - puzzles\n",
    "---"
   ]
  },
  {
   "cell_type": "markdown",
   "id": "843115f9-3f4f-45b6-b6a5-50c880bdae3e",
   "metadata": {},
   "source": [
    "## Last Time\n",
    "\n",
    "Picking up from where we left off last time, I tried testing LLMs against how well they can fill out a cross word puzzle...and a faulty one at that...the idea was to first see how well an LLM can generate a crossword puzzle--given its renowned talent in mimicing and generating human-like speech, and then in separate chat logs/prompting a second model asking them to evaluate the puzzle itself (knowing that the \"down\" clues were not exactly accurately generated).\n",
    "\n",
    "In sum, the LLM's did ok in filling out the puzzle as much as they could given the constraints of the clues and actual solutions. Today, I thought I would extend the experiment to track their learning capacities and see how well they can generate more accurate puzzles over a number of trials. So, within the same, original chat log as the first experiment in which I asked to generate a cross word puzzle, I prompted ChatGPT to do so again and to refine its approach (by letting it know it made a mistake in the first):\n",
    "\n",
    "\n",
    "## Second time around, let's produce another cross word puzzle:\n",
    "\n",
    "I asked Chat to refine it's approach with the following prompt: \n",
    "\n",
    ">\"The cross word puzzle you produced above had issues with the \"down\" clues (they weren't real words). Can you produce another similar cross word puzzle or fix the one above?\"\n",
    "\n",
    "\n",
    "### ChatGPT:\n",
    "\n",
    "You're absolutely right — the **Down clues and answers in the previous puzzle had inconsistencies** (some weren’t valid words vertically). Thanks for catching that.\n",
    "\n",
    "Here is a **new and corrected 5x5 crossword puzzle** — all Across and Down entries form valid words.\n",
    "\n",
    "--------\n",
    "\n",
    "### 🧩 Crossword Grid (Empty with Numbers)\n",
    "\n",
    "```\n",
    "1 C A T S _\n",
    "2 A _ _ _ _\n",
    "3 R _ _ _ _\n",
    "4 E _ _ _ _\n",
    "5 S _ _ _ _\n",
    "```\n",
    "\n",
    "---------\n",
    "\n",
    "### ✅ Filled Crossword Grid (Solution)\n",
    "\n",
    "```\n",
    "1 C A T S Y\n",
    "2 A R E N A\n",
    "3 R E A C T\n",
    "4 E L I T E\n",
    "5 S T A R S\n",
    "```\n",
    "\n",
    "----------\n",
    "\n",
    "### Clues\n",
    "\n",
    "**ACROSS**\n",
    "\n",
    "1. Furry pets that purr.\n",
    "2. Stadium or event location.\n",
    "3. To respond or reply, especially emotionally.\n",
    "4. The best or most skilled.\n",
    "5. Bright points in the sky at night.\n",
    "\n",
    "**DOWN**\n",
    "\n",
    "1. Careful study or analysis (hint: it’s also a word in chemistry).\n",
    "2. A vocal response (past tense).\n",
    "3. Animal companion.\n",
    "4. A famous tennis championship city.\n",
    "5. Symbol of fame or excellence.\n",
    "\n",
    "-------\n"
   ]
  },
  {
   "cell_type": "markdown",
   "id": "5b8690eb-a629-4f90-9e43-64a92114f9bb",
   "metadata": {},
   "source": [
    "> The accompanying image it produced:\n",
    "\n",
    "<img src=\"img1.png\" width=\"60%\"/>"
   ]
  },
  {
   "cell_type": "markdown",
   "id": "09743953-a8c5-411b-8a19-b109b12b5d78",
   "metadata": {},
   "source": [
    "* Unfortunately, while this was nice and all--even going as far as to produce an image of the crossword--this didn't exactly accomplish what we wanted, which was a proper, consistent crossword puzzle.\n",
    "\n",
    "Trying one more time, I'll note the fact that it contains inconsistencies again and will ask it to produce another, hopefully more accurate puzzle"
   ]
  },
  {
   "cell_type": "markdown",
   "id": "0ffcf160-c373-4333-9fd5-34008f6d79d2",
   "metadata": {},
   "source": [
    "### Third Time's the Charm????\n",
    "\n"
   ]
  },
  {
   "cell_type": "markdown",
   "id": "e27038f6-111d-43af-bfff-0a41fb112898",
   "metadata": {},
   "source": [
    "Absolutely — let's fix that! Here's a **new, clean, and fully consistent 5x5 crossword puzzle** with real English words in every Across and Down slot.\n",
    "\n",
    "---------\n",
    "\n",
    "### ✅ Filled Crossword Grid (Solution)\n",
    "\n",
    "```\n",
    "1 P I A N O\n",
    "2 A R E A S\n",
    "3 R A I S E\n",
    "4 I N C E N\n",
    "5 S E N S E\n",
    "```\n",
    "\n",
    "--------\n",
    "\n",
    "### 🧩 Crossword Grid (Empty for Solving)\n",
    "\n",
    "```\n",
    "1 _ _ _ _ _\n",
    "2 _ _ _ _ _\n",
    "3 _ _ _ _ _\n",
    "4 _ _ _ _ _\n",
    "5 _ _ _ _ _\n",
    "```\n",
    "\n",
    "-----------\n",
    "\n",
    "### Clues\n",
    "\n",
    "**ACROSS**\n",
    "\n",
    "1. A keyboard instrument.\n",
    "2. Regions or spaces.\n",
    "3. To lift up.\n",
    "4. \\_\\_ burner (type of lab equipment).\n",
    "5. Smell, taste, or touch — one of five.\n",
    "\n",
    "**DOWN**\n",
    "\n",
    "1. Opposite of push.\n",
    "2. Sun’s opposite in weather.\n",
    "3. Acknowledge with a nod, for example.\n",
    "4. Belonging to us.\n",
    "5. Detect or perceive.\n",
    "\n",
    "--------\n",
    "\n",
    "\n",
    "**Aaaand**, it still failed...to refer back to some of our prompting strategies from a previous blog post, I tried refining my own approach by inputting an example and seeing how well it does with an already established crossword.\n",
    "\n",
    "### The example:\n",
    "This one should be simple enough, let's see how well Chat does in solving it completely and accurately.\n",
    "\n"
   ]
  },
  {
   "cell_type": "markdown",
   "id": "bad5a250-a4a0-42df-a230-f9ba11e86814",
   "metadata": {},
   "source": [
    "<img src=\"img2.png\" width=\"60%\"/>"
   ]
  },
  {
   "cell_type": "markdown",
   "id": "123c3676-a29b-4505-86dc-95254dffdee8",
   "metadata": {},
   "source": [
    "### The Answer:\n",
    "Great! Let’s solve the crossword based on the clues and the layout from your image.\n",
    "\n",
    "---------\n",
    "\n",
    "### 🧩 Clues and Solutions\n",
    "\n",
    "**ACROSS**\n",
    "\n",
    "* **2. A feline furry animal** → **CAT**\n",
    "* **4. The ability to understand and share the feelings of another** → **EMPATHY**\n",
    "* **5. A small brown bird known for chirping** → **SPARROW**\n",
    "\n",
    "**DOWN**\n",
    "\n",
    "* **1. A large, four-legged animal that is often used for transportation** → **HORSE**\n",
    "* **3. Existing or available in large quantities** → **ABUNDANT**\n",
    "\n",
    "----------\n",
    "\n",
    "### ✅ Filled-in Crossword\n",
    "\n",
    "Here's how the crossword fills in (matching the image's layout):\n",
    "\n",
    "* **1 Down**: H\n",
    "  O\n",
    "  R\n",
    "  S\n",
    "  E\n",
    "\n",
    "* **2 Across**: C\n",
    "  A\n",
    "  T\n",
    "\n",
    "* **3 Down**: A\n",
    "  B\n",
    "  U\n",
    "  N\n",
    "  D\n",
    "  A\n",
    "  N\n",
    "  T\n",
    "\n",
    "* **4 Across**: E\n",
    "  M\n",
    "  P\n",
    "  A\n",
    "  T\n",
    "  H\n",
    "  Y\n",
    "\n",
    "* **5 Across**: S\n",
    "  P\n",
    "  A\n",
    "  R\n",
    "  R\n",
    "  O\n",
    "  W\n",
    "\n",
    "----------\n",
    "\n",
    "Let me know if you’d like this filled-in version as an image!\n"
   ]
  },
  {
   "cell_type": "markdown",
   "id": "fc744ff5-3abc-4059-b9fa-5a8f1d4b1b2c",
   "metadata": {},
   "source": [
    "<img src=\"img3.jpg\" width=\"60%\"/>"
   ]
  },
  {
   "cell_type": "markdown",
   "id": "79d4165c-1b70-461e-9752-c8409ec19be9",
   "metadata": {},
   "source": [
    "<img src=\"img3.jpg\" width=\"60%\"/>"
   ]
  },
  {
   "cell_type": "markdown",
   "id": "0f77fa5c-0798-472d-9eac-6914f543fdfb",
   "metadata": {},
   "source": [
    "> Perfect!! It solves with style and grace...\n",
    "\n",
    "I'll now ask Chat to create a puzzle of a similar vein, and see how well it truly refines its approach. Hopefully by giving it a reference point, it learns more quickly the kind of output I desire in this case...\n",
    "\n"
   ]
  },
  {
   "cell_type": "markdown",
   "id": "077ffa45-d3b5-4508-bfcc-ccec1f7f8c6c",
   "metadata": {},
   "source": [
    "### Fourth Time: The Generated Image is as follows:\n",
    "\n",
    "<img src=\"img4.png\" width=\"60%\"/>"
   ]
  },
  {
   "cell_type": "markdown",
   "id": "22032c1a-65c5-471c-9b99-9fc64ab7768b",
   "metadata": {},
   "source": [
    "***OK!*** Good start! It actually generated a more neat version of a cross word puzzle, let's see what the answers are!\n",
    "\n",
    "<img src=\"img6.png\" width=\"80%\"/>\n",
    "\n",
    "So, it failed to give a precise answer, unfortunately. According to the clues and answers it gave, the following cross word would be filled out as such:\n",
    "\n",
    "<img src=\"img5.png\" width=\"60%\"/>"
   ]
  },
  {
   "cell_type": "markdown",
   "id": "39302479-9f49-4d9e-8817-909be05b118d",
   "metadata": {},
   "source": [
    "* It's interesting to see how poorly LLMs can execute generating cross words correctly.\n",
    "While they excel at pattern matching and semantic relationships, the visual component makes it harder for them to identify various types of word play in these cases.\n",
    "**Further...**: while they can get away with generating sometimes plausible answers, they maintain limitations in their understanding of length constraints, and more niche forms of knowledge required to understand certain clues embedded in colloquial or culturally significant words. In other words, the visually complicated element coupled with the difficulting in extracting definitions makes it hard for LLMs to compete in this realm.\n",
    "\n",
    "    > In sum, stick to solving your cross word puzzles on your own! Trust yourself and the answers you come up with, because in the majority of instances, LLMs will do a much poorer job than you!"
   ]
  },
  {
   "cell_type": "code",
   "execution_count": null,
   "id": "0dd5f728-9f49-48c5-974b-9f3db36c0644",
   "metadata": {},
   "outputs": [],
   "source": []
  }
 ],
 "metadata": {
  "kernelspec": {
   "display_name": "Python 3-12 (COMM4190)",
   "language": "python",
   "name": "python3-12_comm4190"
  },
  "language_info": {
   "codemirror_mode": {
    "name": "ipython",
    "version": 3
   },
   "file_extension": ".py",
   "mimetype": "text/x-python",
   "name": "python",
   "nbconvert_exporter": "python",
   "pygments_lexer": "ipython3",
   "version": "3.12.8"
  }
 },
 "nbformat": 4,
 "nbformat_minor": 5
}
