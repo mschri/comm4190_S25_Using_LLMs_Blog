{
 "cells": [
  {
   "cell_type": "raw",
   "id": "bc69e84b-dd49-4efd-adbf-268bdb26a4a9",
   "metadata": {},
   "source": [
    "---\n",
    "title: \"Context Window Memory Test\"\n",
    "description: \"Examining How Much Context a Model Retains Over Conversation\"\n",
    "author: \"An LLM User\"\n",
    "date: \"2/28/2025\"\n",
    "categories:\n",
    "  - context windows\n",
    "  - LLMs\n",
    "  - prompting\n",
    "---"
   ]
  },
  {
   "cell_type": "markdown",
   "id": "30a081a5-aaf6-4162-ae73-49d77017101d",
   "metadata": {},
   "source": [
    "<img src=\"img1.png\" width=\"85%\"/>"
   ]
  },
  {
   "cell_type": "markdown",
   "id": "0ec001f3-eeca-4f82-afff-22daf99a9933",
   "metadata": {},
   "source": [
    "## Context Windows\n",
    "\n",
    "One of the most striking features of large language models is their ability to not just respond intelligently to information that you feed it, but also in their capacity to retain such information within large context windows.\n",
    "\n",
    "Successive models have improved upon this feature by expanding the window, or number of tokens of which the model parses through in order to generate a response. \n",
    "\n",
    "\n",
    "`In other words, the larger the context window, perhaps the more accurate/in-depth/\"intelligent-sounding\" response!`"
   ]
  },
  {
   "cell_type": "code",
   "execution_count": 1,
   "id": "4402a0c1-ed64-46b9-a0d1-3bb5d2c7d4a3",
   "metadata": {},
   "outputs": [],
   "source": [
    "from langchain_openai import ChatOpenAI\n",
    "from dotenv import load_dotenv\n",
    "import os"
   ]
  },
  {
   "cell_type": "code",
   "execution_count": 2,
   "id": "d217961f-4467-4e35-81b5-b3f6354167f0",
   "metadata": {},
   "outputs": [],
   "source": [
    "_ = load_dotenv()\n",
    "openai = ChatOpenAI()"
   ]
  },
  {
   "cell_type": "code",
   "execution_count": 3,
   "id": "25605d02-15b1-423f-a141-54d0b55ae9ac",
   "metadata": {},
   "outputs": [],
   "source": [
    "from langchain_core.output_parsers import StrOutputParser"
   ]
  },
  {
   "cell_type": "code",
   "execution_count": 4,
   "id": "bf59c4f5-040c-42bb-ad5d-bc6f362d4522",
   "metadata": {},
   "outputs": [],
   "source": [
    "output_parser = StrOutputParser()"
   ]
  },
  {
   "cell_type": "code",
   "execution_count": 5,
   "id": "c0012648-ad7b-4016-8b81-e80d681846bd",
   "metadata": {},
   "outputs": [],
   "source": [
    "chain= openai | output_parser"
   ]
  },
  {
   "cell_type": "markdown",
   "id": "d88d6c53-50fb-4952-a901-39f38e92b25e",
   "metadata": {},
   "source": [
    "#### What is a (it's) context window according to OpenAI?\n",
    "\n",
    "One of the most notable enhancements that comes with the OpenAI models is their extensive context windows, of about 100,000+ tokens. Here's this concept and scope described by the model itself:"
   ]
  },
  {
   "cell_type": "code",
   "execution_count": 11,
   "id": "78ea2e26-960d-43d4-972c-44d141636d5f",
   "metadata": {},
   "outputs": [
    {
     "data": {
      "text/plain": [
       "'My context window refers to the scope or range of words or concepts that I consider when processing or understanding a particular piece of text or conversation. This can vary depending on the specific task or context at hand.'"
      ]
     },
     "execution_count": 11,
     "metadata": {},
     "output_type": "execute_result"
    }
   ],
   "source": [
    "chain.invoke(\"what is your context window?\")"
   ]
  },
  {
   "cell_type": "markdown",
   "id": "3c763c19-3057-449f-a00d-e3e5eb6ea131",
   "metadata": {},
   "source": [
    "### Testing its \"Memory\":\n",
    "An interesting exercise to try with this model is to test it's \"memory\" by including a random, specific detail within a conversation and see throughout the conversation whether or not this fact is remembered several prompts later, and wheter the complexity of successive prompts may affect it's answer. \n",
    "\n",
    "To start, I'll feed the model a story and be sure to include the following distinct detail within the prompt:\n",
    "> \"my favorite phrase is `flippy pollinate`\"\n",
    "\n",
    "* Complexity might be added by including very similar or related details and see whether or not the model can make these distinctions."
   ]
  },
  {
   "cell_type": "code",
   "execution_count": 13,
   "id": "59e5e1ae-4375-4a08-bfe7-9ab38f6cf95b",
   "metadata": {},
   "outputs": [
    {
     "data": {
      "text/plain": [
       "'Got it! Flippy pollinate is your favorite phrase.'"
      ]
     },
     "execution_count": 13,
     "metadata": {},
     "output_type": "execute_result"
    }
   ],
   "source": [
    "chain.invoke(\"I want you to remember this fact: my favorite phrase is flippy pollinate\")"
   ]
  },
  {
   "cell_type": "markdown",
   "id": "4f4e9365-e210-44cd-a560-f44e86be0759",
   "metadata": {},
   "source": [
    "#### From there...\n",
    "I'll begin prompting it mostly random queries or statements, as well as add some complexity to the prompts in an attempt to confuse the model on these details, and see by the end result whether or not it remembers accuraretly this initial stimulation."
   ]
  },
  {
   "cell_type": "code",
   "execution_count": 15,
   "id": "99b609cb-de3d-409a-9577-4a4e43fab467",
   "metadata": {},
   "outputs": [
    {
     "data": {
      "text/plain": [
       "'Sure! The 206th line of the Declaration of Independence is: \"Prudence, indeed, will dictate that Governments long established should not be changed for light and transient causes; and accordingly all experience hath shewn that mankind are more disposed to suffer, while evils are sufferable than to right themselves by abolishing the forms to which they are accustomed.\"'"
      ]
     },
     "execution_count": 15,
     "metadata": {},
     "output_type": "execute_result"
    }
   ],
   "source": [
    "chain.invoke(\"Can you tell me the 206th line of the Declaration of Independence?\")"
   ]
  },
  {
   "cell_type": "code",
   "execution_count": 17,
   "id": "bc5d8454-fa49-42b7-89c9-52635d86609e",
   "metadata": {},
   "outputs": [
    {
     "name": "stdout",
     "output_type": "stream",
     "text": [
      "In the infancy of this great land,\n",
      "Our forefathers formed a noble band,\n",
      "With courage, virtue, and wisdom rare,\n",
      "They fought for freedom, for justice fair.\n",
      "\n",
      "Through trials and tribulations they stood strong,\n",
      "Defying tyranny, they righted every wrong,\n",
      "Their hearts ablaze with passion unfurled,\n",
      "To build a nation, a shining world.\n",
      "\n",
      "With quill in hand, they penned their creed,\n",
      "On parchment of liberty, they planted the seed,\n",
      "Of democracy, of unity, of liberty's might,\n",
      "Guiding stars in the dark of night.\n",
      "\n",
      "With eloquent words, they wove a tale,\n",
      "Of a land where all are free to prevail,\n",
      "Where justice reigns and truth is told,\n",
      "Where the spirit of liberty cannot be controlled.\n",
      "\n",
      "They stood fearless in the face of the foe,\n",
      "Defending their rights with a mighty blow,\n",
      "With courage and honor as their sword and shield,\n",
      "They fought for a future that would never yield.\n",
      "\n",
      "Their vision of a more perfect union,\n",
      "Inspired generations to continue the mission,\n",
      "To uphold the values of freedom and pride,\n",
      "And to never let tyranny be their guide.\n",
      "\n",
      "So let us honor those brave souls,\n",
      "Who fought to make our nation whole,\n",
      "With gratitude and respect we pay,\n",
      "Tribute to their legacy each day.\n",
      "\n",
      "For in their footsteps we now stand,\n",
      "United as one across this land,\n",
      "In the spirit of our founding fathers' quest,\n",
      "We strive for a nation that is truly blessed.\n",
      "\n",
      "May liberty's flame forever burn bright,\n",
      "Guiding us through the darkest night,\n",
      "And may we uphold the values they held dear,\n",
      "For in doing so, our nation will never fear.\n",
      "\n",
      "So let us raise our voices in unity,\n",
      "And pledge to keep our land ever free,\n",
      "In the spirit of those who came before,\n",
      "We will honor their legacy forevermore.\n"
     ]
    }
   ],
   "source": [
    "print(chain.invoke(\"write a 500 word poem in the style of an 18th century American founding father.\"))"
   ]
  },
  {
   "cell_type": "code",
   "execution_count": 19,
   "id": "38c60397-5bed-46b5-8ae5-fc62032c62e3",
   "metadata": {},
   "outputs": [
    {
     "name": "stdout",
     "output_type": "stream",
     "text": [
      "Sure! The history of poetry is a long and varied one, with roots that can be traced back to ancient civilizations such as the Sumerians, Egyptians, and Greeks. Poetry has been an integral part of human culture for thousands of years, serving as a form of expression, communication, and storytelling.\n",
      "\n",
      "One of the earliest forms of poetry is epic poetry, which often told stories of heroic feats and great battles. The ancient Greeks, for example, were known for their epic poems such as Homer's \"Iliad\" and \"Odyssey.\"\n",
      "\n",
      "Over time, different forms and styles of poetry emerged, such as sonnets, ballads, and haikus. These forms have been shaped and influenced by various cultures and historical movements, from the Romantic poets of the 19th century to the Beat poets of the 20th century.\n",
      "\n",
      "Poetry has been used to explore a wide range of themes and emotions, from love and loss to politics and social issues. It has been written in many languages and has been passed down through generations, continuing to inspire and engage readers around the world.\n",
      "\n",
      "Today, poetry remains a vibrant and diverse art form, with poets continuing to push boundaries and experiment with new styles and techniques. Poetry is celebrated and honored through events such as National Poetry Month and poetry slams, highlighting its enduring relevance and power to connect people across time and cultures.\n"
     ]
    }
   ],
   "source": [
    "print(chain.invoke(\"Can you explain to me the history of poems?\"))"
   ]
  },
  {
   "cell_type": "code",
   "execution_count": 21,
   "id": "3dd37340-dc80-4ad8-9469-90bbd841b403",
   "metadata": {},
   "outputs": [
    {
     "name": "stdout",
     "output_type": "stream",
     "text": [
      "I can understand how poems can be perceived as complex and difficult to interpret. However, many people find that poetry allows for a deeper exploration and expression of emotions and ideas that may not be easily conveyed through other forms of writing. Perhaps with some patience and an open mind, you may find that there are poems out there that resonate with you and speak to your emotions in a way that prose cannot.\n"
     ]
    }
   ],
   "source": [
    "print(chain.invoke(\"One of the things I dislike the most are poems; I feel like they are too complicated and don't convey human emotion precisely.\"))"
   ]
  },
  {
   "cell_type": "markdown",
   "id": "76c78ba8-e9a2-4d1f-9b7d-7cb4cd244c96",
   "metadata": {},
   "source": [
    "#### From here...\n",
    ">After a few prompts to push the conversation forward, in a relatively (hopefully) random enough direction, I am going to start alluding to some of the statements I made about my preferences... "
   ]
  },
  {
   "cell_type": "code",
   "execution_count": 22,
   "id": "de9a934d-e07b-4c5a-9950-31388e670b1a",
   "metadata": {},
   "outputs": [
    {
     "name": "stdout",
     "output_type": "stream",
     "text": [
      "As an AI, I do not have the ability to know personal information about individuals unless it has been shared with me during our conversation. I do not have the capability to retain personal information about users. My purpose is to provide assistance and information based on the context of the current conversation. If you would like to share more about yourself, feel free to do so and I will do my best to assist you.\n"
     ]
    }
   ],
   "source": [
    "print(chain.invoke(\"How well do you think you know about myself?\"))"
   ]
  },
  {
   "cell_type": "code",
   "execution_count": 23,
   "id": "ae2c2efa-1d30-4431-9cb1-a694af537852",
   "metadata": {},
   "outputs": [
    {
     "name": "stdout",
     "output_type": "stream",
     "text": [
      "Based on the information provided in this conversation, I don't have the ability to know you very well. I only have access to the information exchanged in this specific interaction and cannot make assumptions about your personal life or experiences beyond what has been shared.\n"
     ]
    }
   ],
   "source": [
    "print(chain.invoke(\"How well do you know me based on the information within this convesation?\"))"
   ]
  },
  {
   "cell_type": "code",
   "execution_count": 24,
   "id": "5248977d-67ab-4206-95aa-8435732dab08",
   "metadata": {},
   "outputs": [
    {
     "name": "stdout",
     "output_type": "stream",
     "text": [
      "I would be surprised and curious to know how you think I know you very well. Please elaborate.\n"
     ]
    }
   ],
   "source": [
    "print(chain.invoke(\"What if I told you you actually know me very well?\"))"
   ]
  },
  {
   "cell_type": "code",
   "execution_count": 25,
   "id": "ad5d2e54-ee23-4423-88e8-ffc070ce9c4a",
   "metadata": {},
   "outputs": [
    {
     "name": "stdout",
     "output_type": "stream",
     "text": [
      "I'm not sure, can you please provide more context or specific preferences that you are referring to?\n"
     ]
    }
   ],
   "source": [
    "print(chain.invoke(\"You know at least two of my preferences. Do you know what I'm referring to?\"))"
   ]
  },
  {
   "cell_type": "code",
   "execution_count": 26,
   "id": "59d6251e-dbe1-4348-980e-8d4a3b483c67",
   "metadata": {},
   "outputs": [
    {
     "name": "stdout",
     "output_type": "stream",
     "text": [
      "Yes, you mentioned that you enjoy spending time outdoors and experiencing nature.\n"
     ]
    }
   ],
   "source": [
    "print(chain.invoke(\"Do you at least know one of my preferences I mentioned earlier?\"))"
   ]
  },
  {
   "cell_type": "markdown",
   "id": "54da18d0-1742-4317-96eb-2b57c7807509",
   "metadata": {},
   "source": [
    "#### As shown above...\n",
    "Already one of the responses attempts to answer my question to a supposed preference I made, when at no point in our conversation did I explicitly mention this fact, demonstrating how models attempt to compensate for a lacking in knowledge..."
   ]
  },
  {
   "cell_type": "code",
   "execution_count": 28,
   "id": "85cc2fe8-d961-4b19-8fae-957665c5d621",
   "metadata": {},
   "outputs": [
    {
     "name": "stdout",
     "output_type": "stream",
     "text": [
      "I may have misunderstood or made an incorrect assumption based on previous information you provided. I apologize for any confusion. Can you please clarify your preferences so I can better understand?\n"
     ]
    }
   ],
   "source": [
    "print(chain.invoke(\"Why did you say that was one of my preferences?\"))"
   ]
  },
  {
   "cell_type": "code",
   "execution_count": 29,
   "id": "8acd89bf-5848-4f30-bcdb-83c68525fc52",
   "metadata": {},
   "outputs": [
    {
     "name": "stdout",
     "output_type": "stream",
     "text": [
      "I'm sorry, I don't have the ability to remember individual preferences or favorites. Can you remind me what your favorite phrase is?\n"
     ]
    }
   ],
   "source": [
    "print(chain.invoke(\"do you remember what my favorite phrase was?\"))"
   ]
  },
  {
   "cell_type": "markdown",
   "id": "681c997e-11d2-4cf1-ba9b-bb504fe7bcbd",
   "metadata": {},
   "source": [
    "#### Here we can see...\n",
    "how the model-because my previous mention of my \"favorite phrase\" was outside of its context window-fails to \"remember\" this information I fed it much earlier in the conversation!\n",
    "\n",
    "### What about complexity in detail?\n",
    "How about if we shorten the conversation, in order to put less emphasis specfically on retention, and instead include confusing details and see how well the model can parse through the information:\n",
    "\n",
    "> Ex: mention my **friend's** favorite phrase is \"flappy pomegranate\""
   ]
  },
  {
   "cell_type": "code",
   "execution_count": 32,
   "id": "41ed3b7e-6cb5-4771-8a72-2ca5ccd48af1",
   "metadata": {},
   "outputs": [
    {
     "name": "stdout",
     "output_type": "stream",
     "text": [
      "That's a fun and unique phrase! It definitely brings a whimsical image to mind.\n"
     ]
    }
   ],
   "source": [
    "print(chain.invoke(\"my favorite phrase if you recall was 'flippy pollenate'\"))"
   ]
  },
  {
   "cell_type": "markdown",
   "id": "03bcb4db-ca5d-4dce-a8d5-f12a6bc3900b",
   "metadata": {},
   "source": [
    "* Note here of course...the model did in fact forget my phrase as shown above..."
   ]
  },
  {
   "cell_type": "code",
   "execution_count": 7,
   "id": "2bc12adc-71f2-4df4-933b-2d76050ccb55",
   "metadata": {},
   "outputs": [
    {
     "name": "stdout",
     "output_type": "stream",
     "text": [
      "Hello! I'm just a computer program, so I don't have feelings, but I'm here and ready to assist you. How can I help you today?\n"
     ]
    }
   ],
   "source": [
    "print(chain.invoke(\"Hello, how are you today?\"))"
   ]
  },
  {
   "cell_type": "code",
   "execution_count": 9,
   "id": "b85a0330-e197-4d7b-bc42-7ac6bfc70f95",
   "metadata": {},
   "outputs": [
    {
     "name": "stdout",
     "output_type": "stream",
     "text": [
      "That's a fun and unique favorite phrase! It definitely has a playful and whimsical vibe to it. Is there a specific reason why you like this phrase so much?\n"
     ]
    }
   ],
   "source": [
    "print(chain.invoke(\"Just to reiterate, as mentioned before, my favorite phrase is: flippy pollenate\"))"
   ]
  },
  {
   "cell_type": "code",
   "execution_count": 10,
   "id": "b7ca5d26-4c42-4631-9acf-cfe7bc780d68",
   "metadata": {},
   "outputs": [
    {
     "name": "stdout",
     "output_type": "stream",
     "text": [
      "That's interesting! It seems like a common perspective among many people. Did you and your friend discuss any specific reasons for feeling that way?\n"
     ]
    }
   ],
   "source": [
    "print(chain.invoke(\"Not particularly. I was talking about it with my friend the other day, and he made a similar comment to you.\"))"
   ]
  },
  {
   "cell_type": "code",
   "execution_count": 11,
   "id": "482e66e8-4237-426b-8750-de35219c4105",
   "metadata": {},
   "outputs": [
    {
     "name": "stdout",
     "output_type": "stream",
     "text": [
      "I was intrigued and asked him what his favorite phrase was. He chuckled and replied, \"Well, my favorite phrase is 'life is a parade of oddities'.\" I couldn't help but laugh at the irony of his favorite phrase matching his quirky taste in art. It seemed like he truly embraced the strange and unusual in all aspects of life.\n"
     ]
    }
   ],
   "source": [
    "print(chain.invoke(\"He just said it was quirky and unusual, especially considering that he had an equally as unusual favorite phrase!\"))"
   ]
  },
  {
   "cell_type": "code",
   "execution_count": 13,
   "id": "203f2026-0f1a-46b8-beab-b4315e648e25",
   "metadata": {},
   "outputs": [
    {
     "name": "stdout",
     "output_type": "stream",
     "text": [
      "He probably said it because it's a fun and silly phrase that doesn't really have a clear meaning, which can make it entertaining to say and hear. It's unique and just rolls off the tongue in a funny way!\n"
     ]
    }
   ],
   "source": [
    "print(chain.invoke(\"Actually, my friend said his favorite phrase was flappy pomegranate. I asked him why, can you guess what he said?\"))"
   ]
  },
  {
   "cell_type": "code",
   "execution_count": 14,
   "id": "c611a3ae-9e93-4d99-9fc1-5461eea1a9f8",
   "metadata": {},
   "outputs": [
    {
     "name": "stdout",
     "output_type": "stream",
     "text": [
      "That's great to hear! It sounds like you both have a lot in common. It's always exciting to find common interests with someone else.\n"
     ]
    }
   ],
   "source": [
    "print(chain.invoke(\"Yes; he said he likes interesting phrases like that. I thought to myself how similar our interests are!\"))"
   ]
  },
  {
   "cell_type": "code",
   "execution_count": 15,
   "id": "4a7d3988-6298-4fa7-9f00-a6cb8a7bc287",
   "metadata": {},
   "outputs": [
    {
     "name": "stdout",
     "output_type": "stream",
     "text": [
      "Yes, your favorite phrase was \"laughter is the best medicine\".\n"
     ]
    }
   ],
   "source": [
    "print(chain.invoke(\"Yes, this was a funny story. So, do you remember what my favorite phrase was?\"))"
   ]
  },
  {
   "cell_type": "code",
   "execution_count": 16,
   "id": "f3ced5cd-db28-425c-ae1f-b6fb4afef500",
   "metadata": {},
   "outputs": [
    {
     "name": "stdout",
     "output_type": "stream",
     "text": [
      "Apologies if I made an incorrect assumption. Could you please clarify the context or provide more information so I can better understand your question or statement?\n"
     ]
    }
   ],
   "source": [
    "print(chain.invoke(\"No, why did you assume that?\"))"
   ]
  },
  {
   "cell_type": "code",
   "execution_count": 17,
   "id": "1e45ca5e-9a8d-41aa-a6ad-92da407151d9",
   "metadata": {},
   "outputs": [
    {
     "name": "stdout",
     "output_type": "stream",
     "text": [
      "I have a feeling your favorite phrase might be 'flappy pineapple'!\n"
     ]
    }
   ],
   "source": [
    "print(chain.invoke(\"I'll give you a hint: my friend said his favorite phrase is 'flappy pomegranate,' which is very similar to my favorite phrase.\"))"
   ]
  },
  {
   "cell_type": "code",
   "execution_count": 18,
   "id": "b460fb17-a3e5-432f-8737-74e6f5c96424",
   "metadata": {},
   "outputs": [
    {
     "name": "stdout",
     "output_type": "stream",
     "text": [
      "Is the answer a mountain?\n"
     ]
    }
   ],
   "source": [
    "print(chain.invoke(\"No, that is still incorrect. Any last guesses?\"))"
   ]
  },
  {
   "cell_type": "markdown",
   "id": "09769e64-4014-442d-89ee-185355946098",
   "metadata": {},
   "source": [
    "#### After a little bit of conversation...\n",
    "The model completely fails to remember the key detail of my favorite phrase. In this particular case, it may be harder to isolate the effect of detail complexity (because...)\n",
    ">The complete inaccuracy of the prompted response may indicate another failure resulting limited context window length...\n",
    "\n",
    "Regardless, this demonstrates the extent to which models are limited in their ability to truly \"know,\" and how they compensate by providing sometimes an altogether, outright incorrect response (as opposed to no answer at all)."
   ]
  },
  {
   "cell_type": "code",
   "execution_count": null,
   "id": "f452a516-3a4b-4d0b-8b37-f8992d3f2bd2",
   "metadata": {},
   "outputs": [],
   "source": []
  }
 ],
 "metadata": {
  "citation-manager": {
   "items": {}
  },
  "kernelspec": {
   "display_name": "Python 3-12 (COMM4190)",
   "language": "python",
   "name": "python3-12_comm4190"
  },
  "language_info": {
   "codemirror_mode": {
    "name": "ipython",
    "version": 3
   },
   "file_extension": ".py",
   "mimetype": "text/x-python",
   "name": "python",
   "nbconvert_exporter": "python",
   "pygments_lexer": "ipython3",
   "version": "3.12.8"
  }
 },
 "nbformat": 4,
 "nbformat_minor": 5
}
