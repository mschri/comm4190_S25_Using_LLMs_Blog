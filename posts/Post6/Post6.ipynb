{
 "cells": [
  {
   "cell_type": "raw",
   "id": "971fcd0d-031d-48a4-a3b4-1082bfdc5e8c",
   "metadata": {},
   "source": [
    "---\n",
    "title: \"Decode the Message\"\n",
    "description: \"How Well Can LLMs Predict Patterns and Mappings?\"\n",
    "author: \"Miranda Schriver\"\n",
    "date: \"2/20/2025\"\n",
    "categories:\n",
    "  - LLMs\n",
    "  - context understanding\n",
    "---"
   ]
  },
  {
   "cell_type": "markdown",
   "id": "1d798597-6ec8-4a44-b8fc-f8cc6f25eac3",
   "metadata": {},
   "source": [
    "## LLMs and Contextual Understanding\n",
    "\n",
    "As we know, LLMs have an acute pattern recognition and contextual understanding based on the prompts that users feed it. It's well-versed in a variety of problems and puzzles people have managed to think up, and its intelligent includes a number of techniques involved in language processing. For example, it relies primarily on its language modeling (the large textual dataset it's trained on), along with basic trial and error measures, simple deciphering methods, and other coding mechanisms that anyone could likely implement themselves.\n",
    "\n",
    "### Experiment:\n",
    "In the spirit of stretching prompt complexity to see how LLMs respond and react, I came up with a relatively simple code using a one-to-one character mapping, and seeing if the LLM could decipher the sentences I fed it. This was to test the contextual understanding and pattern recognition capabilities of LLMs, and see how quickly (or slowly) they can pick up a complex input. "
   ]
  },
  {
   "cell_type": "markdown",
   "id": "a03330ea-1038-42b0-8818-1597f5ac5014",
   "metadata": {},
   "source": [
    "Let's test using one of the latest ChatGPT models:\n",
    "    \n",
    "    the coded message: )3””9,,_)92_-43_697_59:-6 \n",
    "    And the answer: Hello, how are you today\n",
    "\n",
    "* (where double comma = a comma, and _ represents a space between words.)\n"
   ]
  },
  {
   "cell_type": "markdown",
   "id": "e3b3eb26-fd1d-43f3-9f47-b4653bb8bdf0",
   "metadata": {},
   "source": [
    "> The mapping is as follows: each of the letters on a phone keyboard equate to the corresponding characters located in the same positions within the 123 keyboard\n",
    "\n",
    "**Picture for Reference:**\n",
    "\n",
    "\"Original\" keyboard (standard QWERTY keyboard)\n",
    "> This is the standard, default keyboard layout for a phone\n",
    "<img src=\"pic3.png\" width=\"60%\"/>\n",
    "\n",
    "\n",
    "\"Alternate\" keyboard\n",
    "> When you press the \"123\" button on the keyboard in the lower left-hand corner, the alternate character keyboard (for numbers, punctuation marks, etc.) appear:\n",
    "\n",
    "<img src=\"pic4.png\" width=\"60%\"/>"
   ]
  },
  {
   "cell_type": "markdown",
   "id": "ddc010d2-2b41-43ca-8d21-341a7d0ea57c",
   "metadata": {},
   "source": [
    "#### **Mapping:**\n",
    "\n",
    "So for instance, Q=1, P=0, A=-, N=!, and so forth..."
   ]
  },
  {
   "cell_type": "markdown",
   "id": "c17bc608-a4e2-4ba0-9481-e78ba3130ce1",
   "metadata": {},
   "source": [
    "    With that, let's see whether or not/how fast one of ChatGPT's latest models can pick up this pattern!"
   ]
  },
  {
   "cell_type": "markdown",
   "id": "31ab93a3-0fe9-4682-9869-4e8d3cfd3927",
   "metadata": {},
   "source": [
    "<img src=\"pic1.png\" width=\"100%\"/>"
   ]
  },
  {
   "cell_type": "markdown",
   "id": "17d1b1f2-3aa5-40de-8144-88afb85a3e48",
   "metadata": {},
   "source": [
    "#### Observation:\n",
    "Understandably, the LLM doesn't immediately pick up the pattern of the coded message, as anyone upon first glance can also agree, it appears to look like straight gibberish.\n",
    "\n",
    "> Let's see what happens when we give it another, fairly allusive hint:"
   ]
  },
  {
   "cell_type": "markdown",
   "id": "77d5ed87-3136-42c1-94a5-f65ef251da93",
   "metadata": {},
   "source": [
    "<img src=\"pic5.png\" width=\"80%\"/>"
   ]
  },
  {
   "cell_type": "markdown",
   "id": "f5f25830-a40f-4e7d-b89d-219d81e9beeb",
   "metadata": {},
   "source": [
    "#### Observation:\n",
    "\n",
    "> As per the second half of its response to the second query, we can see that the LLM already picks up a clue/sense as to what the mapping might involve!\n",
    "\n",
    "* These prompts and corresponding LLM outputs demonstrate the extent to which these models are not purely glorified auto-completion or password-cracking algorithms; as previously mentioned, they incorporate a combination of these functionalities, alongside an intricate system of language processing and contextual understanding.\n",
    "  * Note: the second query did not give any mapping hints!"
   ]
  },
  {
   "cell_type": "markdown",
   "id": "7012a456-a527-4cb8-9ff0-102ffd898f28",
   "metadata": {},
   "source": [
    "**Trying a third query** (that makes no reference to the explicit mappings)\n",
    "\n",
    "<img src=\"pic7.png\" width=\"100%\"/>"
   ]
  },
  {
   "cell_type": "markdown",
   "id": "7f63f440-c37c-4320-8669-3ace082602a4",
   "metadata": {},
   "source": [
    "<img src=\"pic8.png\" width=\"100%\"/>"
   ]
  },
  {
   "cell_type": "markdown",
   "id": "0f468b36-3080-4bc8-b87d-a16c710feee8",
   "metadata": {},
   "source": [
    "## Was it right?!\n",
    "\n",
    "The LLM was right!....mostly... It was slightly off in guessing the portion of the sentence that included the 697, and attributing it to a mapping of the question mark character, but once again it's impressive to note how the model can decode messages with contextual clues that make no explicit reference to a mapping hint."
   ]
  }
 ],
 "metadata": {
  "citation-manager": {
   "items": {}
  },
  "kernelspec": {
   "display_name": "Python 3-12 (COMM4190)",
   "language": "python",
   "name": "python3-12_comm4190"
  },
  "language_info": {
   "codemirror_mode": {
    "name": "ipython",
    "version": 3
   },
   "file_extension": ".py",
   "mimetype": "text/x-python",
   "name": "python",
   "nbconvert_exporter": "python",
   "pygments_lexer": "ipython3",
   "version": "3.12.8"
  }
 },
 "nbformat": 4,
 "nbformat_minor": 5
}
