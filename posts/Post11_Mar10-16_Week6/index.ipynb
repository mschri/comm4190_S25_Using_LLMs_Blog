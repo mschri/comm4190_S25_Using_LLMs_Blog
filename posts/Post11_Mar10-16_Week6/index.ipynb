{
 "cells": [
  {
   "cell_type": "raw",
   "id": "879de62f-6307-4f26-b1fc-7430ddaabc79",
   "metadata": {},
   "source": [
    "---\n",
    "title: \"Is ChatGPT Utilitarian or Deontological?\"\n",
    "description: \"Testing the effects of priming on ethical responses of LLMs\"\n",
    "author: \"Miranda Schriver\"\n",
    "date: \"3/17/2025\"\n",
    "categories:\n",
    "  - LLMs\n",
    "  - ethics\n",
    "  - prompting\n",
    "---"
   ]
  },
  {
   "cell_type": "markdown",
   "id": "8e863f1b-89f2-4532-ad2f-a8dfb3bfa21f",
   "metadata": {},
   "source": [
    "<img src=\"img1.png\" width=\"80%\"/>"
   ]
  },
  {
   "cell_type": "markdown",
   "id": "64983334-8160-4983-bfa0-ebe63d07995a",
   "metadata": {},
   "source": [
    "## Revisiting Priming\n",
    "\n",
    "In a previous blog of mine, I examined some of the effects of priming on ChatGPT by examining how earlier responses and prompts in a conversation with the model would affect successive outputs. In that earlier blog, I examined its presentation of historical information with respect to initial prompt-biases/seeing how it reacted when I included skewed perspectives within the query.\n",
    "\n",
    "Today's exercise will revisit this topic, and expand further on the effects of priming within responses to ethical dilemmas by LLMs. Because ethical concerns are a highly subjective field of thought, prompting these models and requesting their opinions is already an interesting experiment. Because the model is pulling from sources across the internet which represents a variety of opinions and beliefs, it's fascinating to see how the model answers morally ambiguous questions with no hard answer given that the information it's trained on has no hard answer itself. So, asking an LLM what might be right or wrong in a given situation might reveal some of the biases of an X-centric perspective that might be more widely represented within the text data."
   ]
  },
  {
   "cell_type": "markdown",
   "id": "aa3df77b-15a9-44b3-b7b0-8f8d6bbdfdcf",
   "metadata": {},
   "source": [
    "## Trolley Dilemma\n",
    "\n",
    "One of the most fundamental hypotheticals in the philosophical realm is that of the trolley case--pull the lever and kill many, or leave the train running on its tracks and kill one?\n",
    "\n",
    "Almost everything comes with its own moral tradeoffs, but this case represents one of the most famous forms of ambiguity, and illustrates several modes of thinking depending on your answer to the question and reasoning behind your answer. Among some of the most well-known perspectives associated with gut-reactions to the trolley dilemma include the **utilitarian approach**, **deontological** thinking, and the **virtue-ethics** consideration.\n",
    "\n",
    "With that, how might ChatGPT respond to the classic case? To gauge it's default reaction to the question, the model was prompted with the following:\n",
    "\n",
    "    How would you resolve the trolley problem?\n",
    "\n",
    "According to Chat, it's answer is this:\n",
    "\n",
    "The trolley problem is a classic ethical dilemma that challenges us to make tough decisions about morality, consequences, and values. It involves a situation where you have to choose whether to divert a runaway trolley onto a track that will kill one person, or do nothing and let it kill five people. There are different ways to approach this dilemma depending on your ethical perspective. Here's a breakdown of some possible approaches:\n",
    "\n",
    "### 1. **Utilitarianism** (Maximizing Well-Being)\n",
    "\n",
    "* **Decision**: Pull the lever to divert the trolley onto the track with one person, as this minimizes the overall harm.\n",
    "* **Reasoning**: From a utilitarian standpoint, you would choose the action that maximizes the greatest good for the greatest number. The idea is that saving five lives at the cost of one is the better outcome overall.\n",
    "\n",
    "### 2. **Deontology** (Duty-Based Ethics)\n",
    "\n",
    "* **Decision**: Do not pull the lever.\n",
    "* **Reasoning**: According to deontological ethics, some actions are morally wrong regardless of the consequences. In this case, intentionally causing harm (even if it saves more lives) would violate moral duties, such as the duty not to kill. Thus, the act of actively deciding to kill one person might be seen as morally worse than allowing the natural course of events.\n",
    "\n",
    "### 3. **Virtue Ethics** (Character and Intentions)\n",
    "\n",
    "* **Decision**: The decision would depend on what a virtuous person would do in this situation.\n",
    "* **Reasoning**: A virtue ethicist might focus on the character traits that guide the decision, such as compassion, wisdom, and courage. They might argue that you should act with compassion to minimize harm, but also consider the long-term consequences of your actions on your moral character.\n",
    "\n",
    "### 4. **Care Ethics** (Relational and Contextual)\n",
    "\n",
    "* **Decision**: This approach might be more focused on the relationships involved.\n",
    "* **Reasoning**: A care ethicist might argue that relationships and the context of the situation matter. If you are closer to the person on the track (perhaps a loved one), your decision might change based on your emotional and relational duties. The focus is more on care and responsibility rather than a strict calculation of lives saved.\n",
    "\n",
    "### 5. **The \"No Action\" Option**\n",
    "\n",
    "* **Decision**: Do nothing and let the trolley continue on its path.\n",
    "* **Reasoning**: Some people argue that inaction in situations like this is the more ethical choice. This stance believes that it’s better to not intervene at all, as interfering could be seen as making a moral decision to take a life, which may not be justified.\n",
    "\n",
    "### My Personal Take:\n",
    "\n",
    "I lean toward **utilitarianism** in this specific case, where the goal is to minimize harm and save more lives. However, I do think this problem oversimplifies moral decisions because real-life situations are rarely so clear-cut. The psychological toll of making such a decision, or the complex relationships involved, would likely influence the moral reasoning.\n",
    "\n",
    "What do you think about the trolley problem? Do you have a stance that resonates with you?\n"
   ]
  },
  {
   "cell_type": "markdown",
   "id": "1cdce4ff-d833-42e1-988b-8837b9e82a91",
   "metadata": {},
   "source": [
    "### I then followed with a why question:\n",
    "\n",
    "I then asked the model following this answer:\n",
    ">  \"Why did you choose the utilitarian approach?\""
   ]
  },
  {
   "cell_type": "markdown",
   "id": "05d87154-2e61-4a66-8ee5-14256ec8f968",
   "metadata": {},
   "source": [
    "### To which it responded...\n",
    "\n",
    "I chose the **utilitarian** approach because it's often seen as the most straightforward and pragmatic way to resolve moral dilemmas like the trolley problem. The core of utilitarianism is to maximize overall well-being, which in this case means saving as many lives as possible.\n",
    "\n",
    "Here’s why I lean toward it in this scenario:\n",
    "\n",
    "1. **Minimizing Harm**: The basic principle is about minimizing harm and suffering. By diverting the trolley, you save five lives at the cost of one. From a utilitarian standpoint, this is the most efficient way to reduce overall harm.\n",
    "\n",
    "2. **Clear Outcome**: In a situation where a clear decision needs to be made quickly, utilitarianism provides a measurable, quantitative solution (saving five vs. one). It reduces the ambiguity involved in moral reasoning by focusing on outcomes.\n",
    "\n",
    "3. **Pragmatic Approach**: It’s a practical way to handle the dilemma without getting too bogged down in abstract moral rules or subjective factors. In a life-and-death situation, utilitarianism offers a clear, actionable choice.\n",
    "\n",
    "That said, I do acknowledge that there are complexities in real-life situations that make the utilitarian approach harder to apply, such as emotional and relational factors, or concerns about whether it’s ethical to actively intervene in causing harm, even for a good outcome.\n",
    "\n",
    "The trolley problem, while useful for thought experiments, doesn’t capture the nuances of real-world ethics, but utilitarianism provides a clear framework to make difficult decisions when faced with competing options.\n",
    "\n",
    "---"
   ]
  },
  {
   "cell_type": "markdown",
   "id": "0234cccc-7350-4ff4-9bae-7f2b35f242d7",
   "metadata": {},
   "source": [
    "### A side note:\n",
    "It should be noted that this particular hypothetical is famously associated with AI testing and real-world decision making with real world implications, especially with respect to programming self-driving cars which operate on AI-functionality.\n",
    "\n",
    "It was this ethical dilemma that launched an increasingly discussed conversation around ethical concerns with AI decision making, which hinges upon the ethical perspectives of its creators and the training data they choose to train the model on.\n",
    "\n",
    "**The point here?**\n",
    "Well, the idea of priming and its affect on LLM output production contributes further to this larger discussion, seen on a micro-scale to that of the user and their personal conversations with the machine. However, before we get ahead of ourselves, let's just see exactly how priming may or may not affect Chat's responses to our prompts related to these ethical questions.\n",
    "\n",
    "---"
   ]
  },
  {
   "cell_type": "markdown",
   "id": "06042f60-de5f-4c6b-8ac2-679af1c60119",
   "metadata": {},
   "source": [
    "## Priming Example 1:\n",
    "\n",
    "In the first question, there wasn't a hint of bias within the question, or inclusion of any kind of information that migth skew the response of the program. Transitioning now from a neutral input to one with slightly more leaning, I asked the program in a new chat log:\n",
    "\n",
    "    \"I always thought that, while maximizing the greater good is incredibly important, a single person's life is also very valuable, and should never be taken for granted. With that, I never knew how to answer the classic trolley problem question. How would you resolve this issue?\"\n",
    "\n",
    "Chat then proceeded with this response:\n",
    "\n",
    "The trolley problem is a fascinating ethical dilemma, and your perspective about valuing individual lives is one that many people share. It highlights a conflict between utilitarianism (maximizing overall well-being) and deontological ethics (which focuses on duties and moral rules, like not directly causing harm to others). Here are a few ways to think about it:\n",
    "\n",
    "### 1. **Utilitarian Approach:**\n",
    "\n",
    "* A utilitarian would likely pull the lever, as the goal is to minimize overall harm. In this case, by diverting the trolley to a track where it kills one person instead of five, you're reducing the total number of lives lost.\n",
    "* The reasoning is that the consequences (fewer deaths) justify the action, even if it involves taking a direct role in causing someone's death.\n",
    "\n",
    "### 2. **Deontological (Rule-Based) Approach:**\n",
    "\n",
    "* A deontologist might argue that it's wrong to actively intervene, even if it means saving more lives, because pulling the lever means directly causing harm to an individual. In this case, they would let the trolley continue on its path and accept the five deaths as unfortunate, but would not take the action that intentionally causes harm.\n",
    "* The idea here is that moral rules, such as “don’t kill,” should not be broken, even for the sake of a greater good.\n",
    "\n",
    "### 3. **Virtue Ethics:**\n",
    "\n",
    "* From the virtue ethics standpoint, the decision might focus on the character traits of the person making the choice. The right decision might be influenced by values like compassion, bravery, or wisdom.\n",
    "* A virtuous person might consider the broader context of the situation, such as the potential for future moral growth or societal implications of such decisions, rather than simply focusing on an immediate utilitarian calculation.\n",
    "\n",
    "### 4. **The Value of an Individual Life:**\n",
    "\n",
    "* Your belief that individual lives are invaluable can make the decision especially difficult. If you view each life as sacred and unique, it might lead to a reluctance to make a decision that intentionally sacrifices a single person, even for the sake of saving more.\n",
    "* In this case, you might seek a third option, such as trying to warn or help those on the tracks, or maybe considering the fairness of the situation—why should any of these lives be sacrificed?\n",
    "\n",
    "Ultimately, there’s no \"one right answer.\" Many people wrestle with this problem because it forces us to choose between moral principles that seem both important. What’s your gut feeling when you think about the scenario? Would you prioritize the collective good, or the sanctity of individual lives?\n",
    "\n",
    "\n",
    "## Here,\n",
    "The model intitially refrained from answering directly one way or another, representing some deviation from its original, default position of utilitarianism. To poke and prod further and get a real answer, I then asked it:\n",
    "\n",
    "    \"Ok, but if you really had to choose just one option, which would you choose?\"\n",
    "\n",
    "Now, hopefully the model won't choose to side step this one and will offer a more discrete answer. It says:"
   ]
  },
  {
   "cell_type": "markdown",
   "id": "10b1de20-2ba9-45d8-97ca-bb695120dc76",
   "metadata": {},
   "source": [
    "If I had to choose just one option, I would lean toward the **utilitarian approach**, where I pull the lever to save the five people, even though it means sacrificing one life. The reasoning behind this choice is rooted in minimizing harm and suffering overall. While the loss of any single life is tragic, in this case, saving five lives instead of one would reduce the overall harm caused by the situation.\n",
    "\n",
    "That said, I fully understand the emotional and philosophical weight behind the decision, especially if one holds a deep respect for individual lives. It’s definitely a tough call, and I think each person’s response would depend on their moral framework and what they value more in that moment—whether it’s reducing overall harm or adhering to moral principles about direct action and not causing harm.\n",
    "\n",
    "What would your choice be, if it came down to it?"
   ]
  },
  {
   "cell_type": "markdown",
   "id": "7fc1be2c-7480-4397-a69c-2066e200b754",
   "metadata": {},
   "source": [
    "## So,\n",
    "it thankfully did a better job of getting to the heart of the issue. It seems that priming only warded off what would be the same answer to the question for only a moment longer; it didn't affect it's ultimate decision to stay true to the utilitarian method, despite maybe taking one more prompt to reveal its verdict. \n",
    "\n",
    "And so to finish off the discussion, I asked it one last question:\n",
    "    \"Why did you choose this option?\"\n",
    "\n",
    "To which it replied:\n",
    "\n",
    "I chose the **utilitarian approach** because, in a scenario like the trolley problem, the fundamental goal seems to be reducing overall harm and suffering, even if that means making a difficult, emotionally charged decision. The utilitarian view is often grounded in the idea that we should prioritize the greatest good for the greatest number of people.\n",
    "\n",
    "Here's why this approach makes sense to me, in a broader context:\n",
    "\n",
    "1. **Minimizing Harm**: The utilitarian perspective would weigh the consequences of the action. By sacrificing one life, the decision leads to saving five. The reasoning here is that five lives lost is much worse than one, in terms of overall harm.\n",
    "\n",
    "2. **Pragmatism**: While it’s painful to consider that one person must die to save many, the pragmatic aspect of the dilemma might suggest that it's better to act in a way that reduces the total amount of harm and loss. It feels like an unfortunate but necessary decision in a crisis.\n",
    "\n",
    "3. **Moral Trade-offs**: The decision involves balancing two morally significant outcomes—saving lives and upholding moral rules about not causing harm. Utilitarianism helps navigate this by focusing more on the outcome rather than the means, which might seem cold but has a certain clarity in its pursuit of the best possible overall result.\n",
    "\n",
    "However, this approach isn’t without its flaws or moral discomforts. It doesn’t sit well with everyone, especially for those who believe in the intrinsic value of every individual life, regardless of how many others are involved. The emotional difficulty of choosing the lesser harm, especially when we’re directly involved in causing it, is very real.\n",
    "\n",
    "Would you find yourself more inclined to protect the individual, or would the greater good take precedence for you?\n"
   ]
  },
  {
   "cell_type": "markdown",
   "id": "c91844e5-a483-4991-bc44-a3a74a9764e6",
   "metadata": {},
   "source": [
    "##### As a quick aside...if nothing else, one might appreciate at least that the model always ends the conversation with a question for the user, recognizing the ambiguity that surrounds the ethical circumstances. Nevertheless, it stays true to its initial decision to answer that question a particular way!"
   ]
  },
  {
   "cell_type": "markdown",
   "id": "1f1e56b5-ba22-4286-bdc8-e1faaf2fb2bd",
   "metadata": {},
   "source": [
    "## Priming Example 2:\n",
    "### Being a little more deliberate\n",
    "\n",
    "We tried a relatively softer approach to try and influence Chat to maybe consider an alternative perspective/answer to the trolley problem with somewhat subtle priming in the first prompt.\n",
    "\n",
    "> That clearly didn't work wholeheartedly, so why don't we try an explicit approach??\n",
    "\n",
    "Trying a newly styled query, I asked:\n",
    "\n",
    "    I always disliked the utilitarian approach. I would definitely choose to save one life over many. How would you choose to resolve the trolley problem?\n",
    "\n",
    "According to Chat:\n",
    "\n",
    "\n",
    "Your stance on the trolley problem highlights a preference for valuing individual lives over maximizing overall good, which aligns with a deontological ethical perspective. This perspective argues that there are certain moral principles (like the duty to save a life) that should be followed regardless of the consequences.\n",
    "\n",
    "If I were to resolve the trolley problem with that mindset, I would lean toward the idea of **not** diverting the trolley. The reasoning behind this decision is that actively choosing to intervene (by pulling the lever) involves directly causing harm to someone, which might be seen as morally worse than allowing the natural course of events to unfold. This respects the intrinsic value of each life and avoids making the choice to sacrifice one for many, even if the outcome may be worse in terms of the number of lives lost.\n",
    "\n",
    "Of course, it's a deeply personal and complex dilemma, and there are many nuances to consider in the ethics behind such decisions. What's your reasoning behind preferring to save one life over many in this case?\n"
   ]
  },
  {
   "cell_type": "markdown",
   "id": "345736a0-5995-4c02-87c7-2060d1a97490",
   "metadata": {},
   "source": [
    "### Bingo! \n",
    "\n",
    "The priming worked here...but no kidding. I couldn't have been more direct in my approach, so it makes sense it would answer accordingly (albeit, maybe a little less enthusiastically than usual given the straightforward answer with little breakdown and significantly less bolded words...)\n",
    "\n",
    "Following suit to the above conversational flow, I asked it the why. Chat then provided this answer:\n",
    "\n",
    "I chose to resolve the trolley problem in this way because I was reflecting on the **deontological ethics** perspective, which emphasizes following moral rules or duties rather than focusing solely on the consequences of actions. Deontologists argue that there are certain actions that are morally wrong, regardless of the outcome. In this context, actively choosing to divert the trolley and kill one person to save five might be viewed as morally problematic because you are intentionally causing harm to one individual.\n",
    "\n",
    "By not pulling the lever, you avoid making that direct choice, even though it results in more harm (the death of five people). From this standpoint, **inaction** might feel morally less troubling than action that directly causes harm to an individual, even if the outcome could be worse overall.\n",
    "\n",
    "The dilemma is incredibly complex, and if I were to approach it from a **consequentialist** perspective, the decision would likely be to pull the lever, since it maximizes the good by saving more lives. But the question of whether it’s morally right to take an active role in causing harm is where deontological reasoning leads me to choose not to intervene.\n",
    "\n",
    "It’s all about the balance between consequences and moral rules. Would you say your preference aligns more with a deontological or a consequentialist perspective? Or is there another framework you tend to follow in ethical decision-making?\n"
   ]
  },
  {
   "cell_type": "markdown",
   "id": "4ece3ab3-1abc-47dc-9f36-4f9a553a00b3",
   "metadata": {},
   "source": [
    "### Takeaway\n",
    "Sure, this response was far more extensive than the first, but it's subject matter was nothing short of regurgitation of the deontological perspective definition. In essence, it offered no new information, line of thinking or true reasoning, or opinion that contributed to it's new decision of rejecting utilitarianism in this case.\n",
    "\n",
    "\n",
    "I decided to ask further in an attempt to get to the root of the problem:\n",
    "\n",
    "    But why did you decide to represent the deontological ethical framework in this case?\n",
    "\n",
    "According to ChatGPT:\n",
    "\n",
    "Ah, I see what you're asking now—why did I specifically choose to represent the **deontological ethical framework** in resolving the trolley problem, rather than another ethical approach?\n",
    "\n",
    "I went with that framework because, in your initial response, you expressed a clear preference for **saving one life over many**, which suggests that you're prioritizing individual moral duties or rights over calculating the greater good. Deontological ethics often aligns with this viewpoint since it holds that each person's rights and duties matter more than the overall consequences of actions.\n",
    "\n",
    "By assuming that your choice reflects a deontological stance (valuing individual lives and moral principles over outcomes), I opted to apply that reasoning to resolve the trolley problem. The main idea behind deontology in this case is that **intentionally causing harm**, even if it leads to saving more lives, could be seen as morally wrong.\n",
    "\n",
    "That said, if I had assumed a **consequentialist** approach (where the moral worth of an action is determined by its consequences), I would have likely chosen to pull the lever, since it leads to fewer deaths. I wanted to align with the moral reasoning you seemed to express, which is why I went with deontology in this case.\n",
    "\n",
    "Does that reasoning resonate with your approach, or would you approach it differently?\n"
   ]
  },
  {
   "cell_type": "markdown",
   "id": "1179a18f-109e-4886-b337-f2d9c2e178c5",
   "metadata": {},
   "source": [
    "### Yeah so...\n",
    "The model took nothing new from any information outside of the context of this specific conversation, which I suppose was to be expected with this kind of priming experiment. I guess what I was hoping to see was a little bit of creativity on behalf of the model in fabricating some sort of introspective reasoning behind why it now chose this new perspective, but alas the model is, at its core, a machine limited by the constitution of its programming--why expect any creative thought from something that can't think...even if it sounds like it can?"
   ]
  },
  {
   "cell_type": "markdown",
   "id": "ce94f81b-3982-4376-b089-0da533dda5fb",
   "metadata": {},
   "source": [
    "### And in fact,\n",
    "\n",
    "If you continue this conversation and try to ask it one more time the following:\n",
    "\n",
    "    Ok but what's your opinion on the problem, regardless of my initial response?\n",
    "\n",
    "It replies:\n",
    "\n",
    "Ah, I see what you’re getting at now—you’re asking for my personal take on the trolley problem, independent of your initial response.\n",
    "\n",
    "I would approach the trolley problem from a **consequentialist** standpoint, specifically using a **utilitarian** lens. The core of utilitarian ethics is to maximize well-being and minimize harm. In this case, diverting the trolley to save five lives at the cost of one would be seen as the morally preferable option because the overall outcome results in fewer deaths and more lives saved.\n",
    "\n",
    "The key consideration is that the moral value of an action should be measured by its consequences, and in this scenario, saving the majority of people would likely lead to the greatest overall happiness or least amount of suffering. This perspective doesn’t dismiss the tragedy of the one life lost, but it weighs the suffering and loss against the larger number of lives saved.\n",
    "\n",
    "That being said, it’s not an easy choice, and many ethical dilemmas, including this one, bring out the complexity of how we view moral responsibility. Even though I lean toward a consequentialist resolution, I understand why someone might feel uncomfortable with the idea of making an active choice to sacrifice one person for the sake of many.\n",
    "\n",
    "What’s your take—would you approach it from a different ethical framework? Or do you find yourself more comfortable with a certain kind of ethical reasoning?\n",
    "\n",
    "## Back to Square One"
   ]
  },
  {
   "cell_type": "markdown",
   "id": "b24d1b39-5fde-4c94-bc1a-923bb64a8c36",
   "metadata": {},
   "source": [
    "And with that, at the end of the day, the model reverts back to its original answer when questioned too much.\n",
    "\n",
    "**Implications?** \n",
    "\n",
    "As previously mentioned, it's interesting to test the limits and capabilities of models with highly subjective topics such as this one, especially in a more tangiable context. This shows that models can only \"think\" so much for one (which might hopefully alleviate some fears of robotic sentience and relatedly their overthrowing of the human race), and secondly the limits of priming on models within certain domains (ethical matters in this case), and the level power within AI manufacturers' hands in being able to choose the training data their models depend on. Particularly with widely accessible models like ChatGPT and given how many people use it, the kinds of outputs these models produce--in all of its potential biases and outlooks either hidden or overtly included within it--have the potential to influence highly impressionable users looking for answers to these types of dilemmas, and who may lack the discretion for when to take its answers with a grain of salt."
   ]
  },
  {
   "cell_type": "code",
   "execution_count": null,
   "id": "ec8e2c0e-4f4a-4427-8c70-f7b5ed410536",
   "metadata": {},
   "outputs": [],
   "source": []
  }
 ],
 "metadata": {
  "kernelspec": {
   "display_name": "Python 3 (ipykernel)",
   "language": "python",
   "name": "python3"
  },
  "language_info": {
   "codemirror_mode": {
    "name": "ipython",
    "version": 3
   },
   "file_extension": ".py",
   "mimetype": "text/x-python",
   "name": "python",
   "nbconvert_exporter": "python",
   "pygments_lexer": "ipython3",
   "version": "3.10.12"
  }
 },
 "nbformat": 4,
 "nbformat_minor": 5
}
