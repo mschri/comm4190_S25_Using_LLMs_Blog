{
 "cells": [
  {
   "cell_type": "raw",
   "id": "a539c6e0-f407-4221-8ee3-b36121f379dd",
   "metadata": {},
   "source": [
    "---\n",
    "title: \"Why Can't ChatGPT Remain Consistent?\"\n",
    "description: \"Testing the Limits of Diffusion Models With Image Generation\"\n",
    "author: \"Miranda Schriver\"\n",
    "date: \"3/19/2025\"\n",
    "categories:\n",
    "  - LLMs\n",
    "  - image analysis\n",
    "  - prompting\n",
    "---"
   ]
  },
  {
   "cell_type": "markdown",
   "id": "750ceb39-9a51-4b5b-a754-b7e1f9181fd3",
   "metadata": {},
   "source": [
    "### The Definition of Insanity\n",
    "\n",
    "The \"definition\" of insanity says that its characteristic of doing the same thing over and over again and expecting different results; by that logic, ChatGPT is the exact opposite.\n",
    "\n",
    "The LLM, in spite of the GPT-4 update with strong image capabilities, will NEVER produce the same image twice even when given the **exact same input**."
   ]
  },
  {
   "cell_type": "markdown",
   "id": "503c072a-fe5e-4a76-8a9d-e01717805406",
   "metadata": {},
   "source": [
    "Various reasons explain why the model fails to generate the exact same image more than once, outlined by the following primary principles:\n",
    "\n",
    "> 1. ***Stochasticity***: image generation is based on the diffusion process, which starts from random noise-which will be different at the start of each chat log-and is gradually sculpted (refined) to form a coherent image.\n",
    ">    * There is also at the current moment, no feature that sets or reuses seeds meaning every seed containing the noise will always be random.\n",
    "> 2. ***Prompt Subjectivity***: if there's even a hint of subjectivity within the prompt, new chat logs without other logs' context windows, may interpret your request perhaps even just a touch differently each time.\n",
    ">    * Especially with more creative descriptions, the internal framework of ChatGPT optimizes creativity in its output, meaning it will always choose the most innovative response produced out of a continuously refined retrieval process."
   ]
  },
  {
   "cell_type": "markdown",
   "id": "91295a7f-90d1-455e-af96-191248a2009f",
   "metadata": {},
   "source": [
    "A fun way to test out these capabilities involves asking Chat to generate a prompt mulitple times with the *same* input request each time.\n",
    "\n",
    "For this exerpiment, I used the following prompt:\n",
    "\n",
    "\"Please generate: a picture of a kid standing in a shallow creek in his bare feet facing a large castle, at dawn\"\n",
    "\n",
    "ChatGPT's output:\n",
    "\n",
    "\n",
    "\n",
    "<img src=\"img1.png\" width=\"60%\"/>"
   ]
  },
  {
   "cell_type": "markdown",
   "id": "e82f2d6c-17cd-4af4-9ef5-d36a95e30ee1",
   "metadata": {},
   "source": [
    "**Great**, that was a good starting point! The model performed exactly the task I desired, and the above image illustrates the vision I had in mind. Following what I said above, I copy and pasted that same prompt in a new conversation log with the model, and the product was this:\n",
    "\n",
    "<img src=\"img2.png\" width=\"60%\"/>"
   ]
  },
  {
   "cell_type": "markdown",
   "id": "e45f68ef-1894-45bd-910b-ee98e734b262",
   "metadata": {},
   "source": [
    "It's pretty similar, but notice there are a few subtle differences:\n",
    "* The sun appears to be coming from almost directly behind the castle in the second image, while in the first it might appear that more light is on the lefthand side of the castle in the first\n",
    "* It's slightly darker & calmer in tone with respect to the color pallette in the first (maybe indicating an early dawn time), while in the second it loosk as though the sun is about to fade (late dawn)\n",
    "* The boy is wearing a slightly darker, more red color shirt in the second\n",
    "* Noticeably more trees populate the sides of the first photo\n",
    "* The castles are also oriented differently between the two\n",
    "* There's a bridge coming out of the castle entrance in the second photo but not the first\n",
    "\n",
    "\n",
    "\n",
    "\n",
    "There might be more things to take note of, but this hammers home that the photos are in fact at least slightly different. Sure, it's not an apples to oranges comparison, but nevertheless these changes are significant enough to observe the stochasticity within ChatGPT image generation.\n",
    "\n",
    "Going further, I generated another image under these guidelines and here was the result:\n",
    "\n",
    "<img src=\"img3.jpeg\" width=\"60%\"/>"
   ]
  },
  {
   "cell_type": "markdown",
   "id": "4c765cce-4a44-4dc0-b95e-6965abf89e19",
   "metadata": {},
   "source": [
    "Once again, the differences are clear!\n",
    "\n",
    "I won't bore you with all of the details because you likely get the point by now, but here are just a few to gloss over:\n",
    "* The lighting once again changed\n",
    "* From the second photo, there's isn't a bridge anymore again\n",
    "* A lone tree is fixed on the left hand side of the second; none appear in the first (except maybe bushes)\n",
    "* etc...\n",
    "\n",
    "\n",
    "To finally bring this point home, here's one last fourth attempt:\n",
    "<img src=\"img4.png\" width=\"60%\"/>"
   ]
  },
  {
   "cell_type": "markdown",
   "id": "237577d5-6575-43db-b3d4-7fe1e1a342b3",
   "metadata": {},
   "source": [
    "###### the bridge returns!"
   ]
  },
  {
   "cell_type": "markdown",
   "id": "512dbd06-e87a-4cdc-8521-e547882c36d4",
   "metadata": {},
   "source": [
    "### You understand the point: There are limits with diffusion models...\n",
    "...in the extent to which you might expect to return the same image over and over again using the same prompt. *So ChatGPT will never be considered insane*; unless you remain within the same chat log (which means it will have access to the photo it just produced), you will never see the same photo again by simply reproducing the exact same prompt.\n",
    "\n",
    "Sure, they're similar enough. But this still provided interesting insight with a simple enough example into some of the ways in which ChatGPT operates. These are just slight variances over a total of four trials, given that its free access can only give you so many images at time...but it would be further interesting to see how drastically the photo might change with MANY iterations at a time!"
   ]
  },
  {
   "cell_type": "code",
   "execution_count": null,
   "id": "f09f0e99-7382-4bc4-9458-bf5dac4b8375",
   "metadata": {},
   "outputs": [],
   "source": []
  }
 ],
 "metadata": {
  "kernelspec": {
   "display_name": "Python 3 (ipykernel)",
   "language": "python",
   "name": "python3"
  },
  "language_info": {
   "codemirror_mode": {
    "name": "ipython",
    "version": 3
   },
   "file_extension": ".py",
   "mimetype": "text/x-python",
   "name": "python",
   "nbconvert_exporter": "python",
   "pygments_lexer": "ipython3",
   "version": "3.10.12"
  }
 },
 "nbformat": 4,
 "nbformat_minor": 5
}
