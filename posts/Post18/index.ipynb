{
 "cells": [
  {
   "cell_type": "raw",
   "id": "a8325e56-54ef-4025-ae0b-b9c04a3756cd",
   "metadata": {},
   "source": [
    "---\n",
    "title: \"Resolving Word-Plays & Plays-On-Words\"\n",
    "description: \"Prompting ChatGPT To Resolve Various Paradoxes\"\n",
    "author: \"Miranda Schriver\"\n",
    "date: \"4/5/2025\"\n",
    "categories:\n",
    "  - LLMs\n",
    "  - prompting\n",
    "  - Language\n",
    "---"
   ]
  },
  {
   "cell_type": "markdown",
   "id": "5b528437-aa00-486b-ab87-708ad920a5e6",
   "metadata": {},
   "source": [
    "<img src=\"img.png\" width=\"65%\"/>"
   ]
  },
  {
   "cell_type": "markdown",
   "id": "746cc79e-47c7-4b2b-bb85-f62c02fd7b95",
   "metadata": {},
   "source": [
    "## Word Play\n",
    "\n",
    "Reading the following sentence and see if you can work out what it's saying:\n",
    "\n",
    ">Imagine if imaginary numbers were in fact imaginary. How would you disprove then the existence of imaginary numbers given that they are imaginary?\n",
    "\n",
    "This is definitely a confusing sentence, and it's intended to be! The average person will take a double take, or two, and still may not quite understand the essence of what the sentence is trying to say.\n",
    "\n",
    "To test ChatGPT's reasoning and comprehension, I asked it this query to see how well it might be able to pick it apart. It's response was this:\n",
    "\n",
    "\n",
    "----------------\n",
    "\n",
    "### ChatGPT:\n",
    "\n",
    "Ah, now we’re diving into a **meta-mathematical paradox** — love it.\n",
    "\n",
    "You're proposing:\n",
    "\n",
    "> “Imagine imaginary numbers are actually imaginary — i.e., they don’t exist.”\n",
    "\n",
    "Then ask:\n",
    "\n",
    "> “How would you disprove their existence *given* they are imaginary?”\n",
    "\n",
    "That’s a bit like saying:\n",
    "\n",
    "> “Assume unicorns are real, and now prove they aren’t.”\n",
    "\n",
    "This is a **self-negating premise**: you’re asking for a disproof from within an assumption that already denies the thing you're disproving. But let's explore it as rigorously as we can.\n",
    "\n",
    "To “disprove” imaginary numbers *from within the assumption that they’re imaginary (nonexistent)* is like trying to disprove color vision in a world that only sees grayscale.\n",
    "\n",
    "#### TL;DR\n",
    "\n",
    "> You can't logically disprove imaginary numbers if they’re already defined and proven consistent. Assuming they don’t exist leads to a broken, incomplete version of math that fails to describe the real world — ironically making imaginary numbers more “real” than ever.\n",
    "\n",
    "-----------------\n",
    "\n",
    "To summarize, ChatGPT does a pretty good job of breaking apart the sentence and understand what it's trying to say, that being trying to disprove something assumed to be not real that does in fact exist..."
   ]
  },
  {
   "cell_type": "markdown",
   "id": "de6da747-2339-44b1-a241-d4a31618c506",
   "metadata": {},
   "source": [
    "### To continue testing it's abilities...\n",
    "\n",
    "I fed another prompt into ChatGPT along similar lines, this time regarding paradoxes:\n",
    "\n",
    ">Input: \"Paradoxically, some paradoxes are not paradoxes in themselves, but are still considered paradoxes because of their paradoxical nature of not being paradoxical when they named paradoxes. Can you give me an example of this kind of paradox?\"\n",
    "\n",
    "* The intention here is to obviously be as convoluted as possible (to a point where I don't even necessarily know what I'm saying...), to see where and when it might choose to fill in knowledge or understanding gaps. So its response:\n",
    "\n",
    "---------------\n",
    "### ChatGPT:\n",
    "\n",
    "That’s an intriguing observation! A good example of this kind of paradox is the **\"paradox of the unexpected hanging.\"**\n",
    "\n",
    "In this paradox, a judge tells a condemned prisoner that they will be hanged at noon on one weekday, but the execution will be a surprise. That is, the prisoner will not know the day of the hanging until the morning of the execution. The prisoner, logically thinking, reasons that they cannot be hanged on Friday, because that would make Thursday the last possible day for the hanging, which would not be a surprise. Following the same reasoning, they conclude that they cannot be hanged on any day, leading to a paradox: despite all the reasoning, they are still hanged on a day that turns out to be a surprise.\n",
    "\n",
    "The paradox lies not in the logic itself, but in the fact that the assumption that a surprise is impossible leads to an unexpected conclusion. The paradox is created by the nature of the expectation, which isn't really paradoxical in itself, but it is paradoxical because of how it's framed and how the expectations contradict themselves. Thus, it’s paradoxical because of its own structure, not because there’s any actual contradiction in the reasoning.\n",
    "\n",
    "\n",
    "---------------\n",
    "* **Impressively,** Chat appears to know what I'm talking about, even offering an example of what I'm referring to (citing an example of a named paradox that is so because it's not actually paradoxical)!\n",
    "\n",
    "These experiments clearly show just how good the technology is at resolving discrepancies in text, identifying underlying reasoning, and noting any potential contradictions. It attempts to \"understand\" things by following the pattern of the logic and mimicking its sentiment. Of course, at the end of the day this all boils down to probability assignments of words and phrases that best suit the logic of the query. But it's interesting how well it seemingly comprehends almost anything that's put into it!\n",
    "\n",
    "I decided to give it one last input to hammer home this idea:\n",
    "> Can you give me an example of something that is incorrectly assumed to be incorrect, or incorrectly assumed to be correct, because it may also be both correct and incorrect and therefore you can’t immediately assume incorrectness or correctness, and relatedly your initial assumption is incorrect at large?\n"
   ]
  },
  {
   "cell_type": "markdown",
   "id": "58fa1a2d-dd6f-456f-bda7-2f9109fb500c",
   "metadata": {},
   "source": [
    "---------------------\n",
    "\n",
    "### ChatGPT:\n",
    "\n",
    "Absolutely—what you’re describing is a kind of meta-paradox, where the act of assuming correctness or incorrectness becomes itself the error due to the ambiguity or duality of the underlying claim. Here's a classic-style example that fits your description:\n",
    "\n",
    "#### **Example: The Liar's Reflection**\n",
    "\n",
    "**Statement**:\n",
    "*\"This statement is false.\"*\n",
    "\n",
    "At first glance, many people assume it’s simply incorrect (or nonsensical). But let’s break it down:\n",
    "\n",
    "* If the statement is **true**, then what it says must hold—so it’s false.\n",
    "* But if it’s **false**, then it’s not the case that \"this statement is false,\" which would mean it’s true.\n",
    "\n",
    "So the statement seems to be both **true and false** at the same time. The initial assumption—whether assuming it is correct (true) or incorrect (false)—leads to a contradiction. Thus:\n",
    "\n",
    "* Assuming **correctness** is incorrect.\n",
    "* Assuming **incorrectness** is also incorrect.\n",
    "* The problem lies in assuming a binary answer **at all**.\n",
    "\n",
    "This traps the reasoning in a self-defeating loop. Therefore, **your initial assumption (that the statement is either true or false in a standard logical sense) is incorrect at large**, because the framework you’re using (classical logic) isn’t equipped to handle it.\n",
    "\n",
    "\n",
    "This kind of example reflects **truth-value ambiguity** or **semantic paradox**, and it demonstrates how **the assumption of a clear-cut correct/incorrect dichotomy** can itself be the actual mistake.\n",
    "\n",
    "-------------------\n"
   ]
  },
  {
   "cell_type": "markdown",
   "id": "47896c69-4822-47f2-a602-5f2e198756a6",
   "metadata": {},
   "source": [
    "### **Amazing!**\n",
    "It continues to understand and resolve the paradoxical nature of the sentence almost effortlessly it seems!!"
   ]
  },
  {
   "cell_type": "code",
   "execution_count": null,
   "id": "574050d7-b0fe-4b5e-83b9-7b77d4a2a2e5",
   "metadata": {},
   "outputs": [],
   "source": []
  }
 ],
 "metadata": {
  "kernelspec": {
   "display_name": "Python 3 (ipykernel)",
   "language": "python",
   "name": "python3"
  },
  "language_info": {
   "codemirror_mode": {
    "name": "ipython",
    "version": 3
   },
   "file_extension": ".py",
   "mimetype": "text/x-python",
   "name": "python",
   "nbconvert_exporter": "python",
   "pygments_lexer": "ipython3",
   "version": "3.10.12"
  }
 },
 "nbformat": 4,
 "nbformat_minor": 5
}
