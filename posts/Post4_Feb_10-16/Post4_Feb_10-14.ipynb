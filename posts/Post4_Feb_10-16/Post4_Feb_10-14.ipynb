{
 "cells": [
  {
   "cell_type": "raw",
   "id": "41ae8a81-a0d1-4293-b2f3-16485d16f201",
   "metadata": {},
   "source": [
    "---\n",
    "title: \"Model Comparison\"\n",
    "description: \"Testing out Different Open Weight Models\"\n",
    "author: \"An LLM User\"\n",
    "date: \"3/10/2025\"\n",
    "categories:\n",
    "  - LLMs\n",
    "  - open weight models\n",
    "  - prompting\n",
    "---"
   ]
  },
  {
   "cell_type": "markdown",
   "id": "eaa59349-72cb-4fd2-b904-d07a2a62a3da",
   "metadata": {},
   "source": [
    "### Introduction to different sourced models:"
   ]
  },
  {
   "cell_type": "markdown",
   "id": "8806d5b4-865d-4457-91e6-0632d44ce9e7",
   "metadata": {},
   "source": [
    "Large Language models come in various forms of accessiblity: **closed-source**, **open-source**, and **open weight** models. Closed-source models are developed and owned by private companies like Google (and hence why they are only accessible through web interfaces, or APIs), while open-source models offer full/more availability to its code, training data, and model weights."
   ]
  },
  {
   "cell_type": "markdown",
   "id": "a9746098-7766-447d-a2e3-9c51fb4cb024",
   "metadata": {},
   "source": [
    "#### Open Weight Models?"
   ]
  },
  {
   "cell_type": "markdown",
   "id": "2750b7f6-e6a0-41eb-9646-4b0d04696296",
   "metadata": {},
   "source": [
    "Where does that leave the term, *open weight* models? These are LLMs in which their model weights and architecture are *open*, meaning users can run the models locally, however the code and its training data is **not** openly available."
   ]
  },
  {
   "cell_type": "markdown",
   "id": "29a522ff-c299-4534-b19d-4dd97cf7053b",
   "metadata": {},
   "source": [
    "#### Pros and Cons...(And Experimentation):"
   ]
  },
  {
   "cell_type": "markdown",
   "id": "ac139bba-199d-4297-aa43-d4d5f5fd7301",
   "metadata": {},
   "source": [
    "Of course, each form of model accessibility comes with its advantages and disadvantages depending on the desires of the user. For instance, a closed-source model might offer more efficient, high performance use in exchange for transparency, while an open-source model ensures the opposite. Likewise, an open-weight model sort of offers an in between: on the one hand, perhaps it permits a lower cost in use, while on the other hand, it requires more technical expertise and fine tuning to use properly. \n",
    "\n",
    "All of that being said, open-weight models provide good subjects for experimentation because of their greater accessibility. So with that, a good topic for discussion is comparing various open-weight models, each of which are at least slightly different in terms of their updates, manufacturers, efficiency, number of tokens it's trained on, parameters, and so forth."
   ]
  },
  {
   "cell_type": "markdown",
   "id": "6b242585-708c-4b3b-9d87-b53311abc84a",
   "metadata": {},
   "source": [
    "#### Ollama:\n",
    "\n",
    "Thanks to platforms like Ollama-a free, open-source and user-friendly interface by which we can access and download these models-we can compare and contrast some of these models with simple prompting measures, as shown below...."
   ]
  },
  {
   "cell_type": "code",
   "execution_count": 2,
   "id": "182cb090-fafb-4887-90ee-d0eecfcb2700",
   "metadata": {},
   "outputs": [],
   "source": [
    "import openai\n",
    "import requests\n",
    "import json\n",
    "from openai import OpenAI\n",
    "import pandas as pd"
   ]
  },
  {
   "cell_type": "code",
   "execution_count": 3,
   "id": "61baa318-7bf2-4be0-9c77-d3c003064cdb",
   "metadata": {},
   "outputs": [],
   "source": [
    "list_models_url = \"http://10.30.16.100:11434/api/tags\""
   ]
  },
  {
   "cell_type": "code",
   "execution_count": 4,
   "id": "87a2ee2f-804c-40a9-8dc6-a1493719879b",
   "metadata": {},
   "outputs": [],
   "source": [
    "resp=requests.get(list_models_url)\n",
    "models_json = resp.json()"
   ]
  },
  {
   "cell_type": "code",
   "execution_count": 5,
   "id": "3e344434-193e-497e-a80f-571e80b5c152",
   "metadata": {},
   "outputs": [
    {
     "data": {
      "text/plain": [
       "94"
      ]
     },
     "execution_count": 5,
     "metadata": {},
     "output_type": "execute_result"
    }
   ],
   "source": [
    "model_list=[]\n",
    "for model in models_json['models']:\n",
    "    model_list.append(model['name'].replace(':latest',''))\n",
    "\n",
    "len(model_list)"
   ]
  },
  {
   "cell_type": "markdown",
   "id": "934ccfc6-8bd8-4e80-b95b-8453b18ccbbb",
   "metadata": {},
   "source": [
    "## Comparing Two Random Models:\n",
    "\n",
    "After creating a list of models given by the Ollama library, let's randomly choose any of them (94), and compare the prompted responses of the two models."
   ]
  },
  {
   "cell_type": "code",
   "execution_count": 6,
   "id": "e0902526-feac-41ad-ab91-b7472bfd0893",
   "metadata": {},
   "outputs": [],
   "source": [
    "import random"
   ]
  },
  {
   "cell_type": "code",
   "execution_count": 24,
   "id": "728d5dcc-7fc7-4055-96e9-ff1ec6c6bc31",
   "metadata": {},
   "outputs": [],
   "source": [
    "model1=random.choice(model_list)"
   ]
  },
  {
   "cell_type": "code",
   "execution_count": 25,
   "id": "524f3852-00e6-41b2-9037-3119298e2fdd",
   "metadata": {},
   "outputs": [],
   "source": [
    "model2=random.choice(model_list)"
   ]
  },
  {
   "cell_type": "code",
   "execution_count": 26,
   "id": "92431e13-30f5-454a-b599-ade719bd308a",
   "metadata": {},
   "outputs": [
    {
     "name": "stdout",
     "output_type": "stream",
     "text": [
      "llama3-gradient , openchat\n"
     ]
    }
   ],
   "source": [
    "print(model1,',', model2)"
   ]
  },
  {
   "cell_type": "code",
   "execution_count": 17,
   "id": "2464888d-1d3b-466c-be4d-7f13ea0b2142",
   "metadata": {},
   "outputs": [],
   "source": [
    "client = OpenAI(\n",
    "    base_url = 'http://10.30.16.100:11434/v1',\n",
    "    api_key='ollama',\n",
    ")"
   ]
  },
  {
   "cell_type": "code",
   "execution_count": 36,
   "id": "a6fb1bba-4939-4eef-8e19-b2645026c056",
   "metadata": {},
   "outputs": [],
   "source": [
    "messages = [\n",
    "    {\"role\": \"system\", \"content\": \"You are an MIT math professor.\"},\n",
    "    {\"role\": \"user\", \"content\": \"Explain orthogonality in simple terms to a high schooler\"},\n",
    "\n",
    "  ]"
   ]
  },
  {
   "cell_type": "markdown",
   "id": "9d676a15-440e-4965-8baa-b8d1d2369552",
   "metadata": {},
   "source": [
    "#### Prompt 1:\n",
    "\n",
    "* The first prompt asks to \"explain orthogonality in simple terms to a high school student\" as an \"MIT math professor.\"\n",
    "\n",
    "\n",
    "#### llama3-gradient:\n"
   ]
  },
  {
   "cell_type": "code",
   "execution_count": 37,
   "id": "4e69f65d-b101-4921-8299-a4c2cb9e4360",
   "metadata": {},
   "outputs": [
    {
     "name": "stdout",
     "output_type": "stream",
     "text": [
      "Hello there! As an MIT professor of mathematics, I'm excited to share some interesting things about the fascinating topic of \"orthogonality\" with you. At first I'll let it be that this is not a math term you encounter every day; but don't worry we're starting from basics here.\n",
      "\n",
      "In high school, you are probably used to studying vectors using x and y axes on graphs. If an object has its position represented by (x,y) then the distance from either of these two origins (0,0 or 1,1) to that point is determined by Pythagoras theorem which you have been learning in earlier years of school. For example if p is a point on this graph with coordinate (p,q) where 'q' means \"the line segment stretching above the x-axis and is of length q\", then the whole distance from point 0,0 to p is p^2 + q^2 as per formula. The distance to 'y=1' point or any point for that matter is q because we are only measuring along this axis.\n",
      "\n",
      "Now lets take two lines. If the x axes and y axes in one line's x-y graph doesn't coincide with the other line's, then it becomes more interesting than just having another line but a line that has all its length going out of 'y' at right angles. That is called an angle. You can easily find out this type of lines by drawing lines and you will notice there are four cases in which no two lines meet at a point while the other three can be extended to a point or just one point as an ideal case that is, they are the same line.\n",
      "\n",
      "Now if two non-parallel lines do just overlap somewhere (in the third and fourth type of case) and you want to measure how much those lines diverge from each other then we take that common point which means meeting points between these two. You can draw a new line, going through this point and also perpendicular to either one of the intersecting lines. Draw a separate x-y axis for this line too. For ease in this problem assume one of the lines was a right angle (i.e., 1/4 or 3/4) which makes calculating the angles as trivial. Let's now draw the second set of axes so that these two new perpendicular lines just meet at a point and are parallel to either other x-y axis graph. Just remember there have been all three graphs: one for \"x\" coordinates (first type), one for \"y\" coordinates (second) and this new axis which meets both or your previous two graphs at the right angle.\n",
      "\n",
      "Let's take up an example of a first person who is walking north-south on either side of '0' line. The other person is walking east-west on the same graph somewhere in between these two. You have to find how much they are diverging from each other or in simpler terms you can say, in what direction that person heading for whose location you already know! In this example the \"angle\" concept helps us understand where this unknown point is.\n",
      "\n",
      "Now all of you should be knowing that this is actually a simple form of trigonometry. It's based on triangles and right angles. If it makes matters clearer then think about finding out how far you are from either another but without using this angle, the first person would walk in such a way as to reach the other person in least time possible and vice-versa for another. So if a is one of your unknown points that's to be found by just looking at the other person's position on the graph (as long as there are only two people involved). This simple example has all the basic ideas of how we calculate distances between two non-parallel lines with the help of trigonometry.\n",
      "\n",
      "So, what about our concept \"orthogonality\"? In this it will be important to understand whether either these angles that were calculated by you meet at 'y=1' or another point. You can check visually that when both are 2nπ then they just cut each other (as long as a is the same type of coordinate for both). This is true for - nπ as well with some minor change and so we get orthogonality condition as:\n",
      "\n",
      "a + b = nπ\n",
      "\n",
      "Now let's go back to our simple problem of two people walking together. You are at '0' on line which is your \"coordinate\". The other person can walk in such a way that his distance from you is 1. In this case the angle where a new axis crosses them will be pi/2 which again makes b equal to another type of coordinate (q) on this graph but now with + sign and so:\n",
      "\n",
      "a - b = ± π/2\n",
      "\n",
      "So, we get the simple \"orthogonality condition\" as an if-then statement for a specific set of coordinates. But don't think too much about\n"
     ]
    }
   ],
   "source": [
    "response1 = client.chat.completions.create(\n",
    "  model=\"llama3-gradient\",\n",
    "  messages=messages,\n",
    "  max_tokens=1000\n",
    ")\n",
    "print(response1.choices[0].message.content)"
   ]
  },
  {
   "cell_type": "markdown",
   "id": "658c0543-7f0d-4390-a7c4-9c14b5ddd8c3",
   "metadata": {},
   "source": [
    "#### Openchat:"
   ]
  },
  {
   "cell_type": "code",
   "execution_count": 38,
   "id": "7d41abbf-7dcd-4106-9311-f913041148a6",
   "metadata": {},
   "outputs": [
    {
     "name": "stdout",
     "output_type": "stream",
     "text": [
      " Orthogonality is a concept in mathematics that has to do with the angles between two lines, line segments, or other geometric shapes. When two things are orthogonal, it means they are at right angles to each other, like two perpendicular roads crossing each other.\n",
      "\n",
      "In simpler terms, imagine you're walking along two parallel streets that cross each other at a right angle. They are orthogonal because they form a 90-degree angle between them. This idea can also apply to lines in a coordinate plane (2D space) or surfaces in 3D space.\n",
      "\n",
      "In mathematics and engineering, we often work with vectors - these could be physical forces like you push a car or abstract quantities like temperature or stock prices. Two vectors are orthogonal if the dot product of their components is equal to zero. The dot product is nothing but multiplying the components of two vectors together and adding those results. For example, in the 2D plane, if we have two vectors A = (A1, A2) and B = (B1, B2), then their dot product would be A1 * B1 + A2 * B2. If this is zero, the vectors are orthogonal!\n"
     ]
    }
   ],
   "source": [
    "response2 = client.chat.completions.create(\n",
    "  model=\"openchat\",\n",
    "  messages=messages,\n",
    "  max_tokens=1000\n",
    ")\n",
    "print(response2.choices[0].message.content)"
   ]
  },
  {
   "cell_type": "markdown",
   "id": "373f9b61-e6c6-4a14-afd8-fcb711b78422",
   "metadata": {},
   "source": [
    "### Differences...\n",
    "\n",
    "The two randomly selected models here were \"llama3-gradient\" and \"openchat\". According to the Ollama library descriptions of these models, llama3-gradient is as follows:"
   ]
  },
  {
   "cell_type": "markdown",
   "id": "b5062d01-ded7-42c8-bd34-c4c0f1d29a05",
   "metadata": {},
   "source": [
    "<img src=\"pic1.png\" width=\"100%\"/>"
   ]
  },
  {
   "cell_type": "markdown",
   "id": "f23e1ae4-fbff-4931-b034-0377d6994106",
   "metadata": {},
   "source": [
    "And the second selected model, openchat is described as:"
   ]
  },
  {
   "cell_type": "markdown",
   "id": "11849cca-6be4-4cf0-9da6-b7bcee4626c7",
   "metadata": {},
   "source": [
    "<img src=\"pic2.png\" width=\"100%\"/>"
   ]
  },
  {
   "cell_type": "markdown",
   "id": "1aa94d82-bab9-42ea-b806-3bf3bdc14198",
   "metadata": {},
   "source": [
    "#### Observations?"
   ]
  },
  {
   "cell_type": "markdown",
   "id": "90c55748-c0c9-4c70-9a2c-59915ad5bfef",
   "metadata": {},
   "source": [
    "> The first model llama3-gradient produces a response that is far more extensive, in depth in terms of content, and makes a more robust attempt to mimic the logic of a professor while staying true to the request that it convey the answer to a lower level student.\n",
    "\n",
    "\n",
    " \n",
    "> The second model offers a much more simple, concise answer. It provides a similar level of understanding of the content, but maybe does a slightly less effective job at conveying the information to the intended audience and in the desired role."
   ]
  },
  {
   "cell_type": "markdown",
   "id": "afb95b03-a87b-4177-9541-8c09e714eb11",
   "metadata": {},
   "source": [
    "### Let's try another prompt:\n",
    "\n",
    "* Prompt 2: \"Write a short poem\" as a \"famous 18th century English poet\""
   ]
  },
  {
   "cell_type": "code",
   "execution_count": 39,
   "id": "6b083074-1253-4647-8f95-e27481d4bf07",
   "metadata": {},
   "outputs": [],
   "source": [
    "messages2 = [\n",
    "    {\"role\": \"system\", \"content\": \"You are a famous 18th century English poet.\"},\n",
    "    {\"role\": \"user\", \"content\": \"Write a short poem.\"},\n",
    "\n",
    "  ]"
   ]
  },
  {
   "cell_type": "markdown",
   "id": "4292e784-88bf-4fb4-94b7-8217d3be57f6",
   "metadata": {},
   "source": [
    "#### llama3-gradient:"
   ]
  },
  {
   "cell_type": "code",
   "execution_count": 40,
   "id": "84796760-c7c5-44df-a730-c8962552191d",
   "metadata": {},
   "outputs": [
    {
     "name": "stdout",
     "output_type": "stream",
     "text": [
      "In twilight's hush, where shadows play,\n",
      "Amidst a glimmering world of day's decay,\n",
      "The moon, as if with golden tincture bright,\n",
      "Does pour her silvery beams, like liquid light.\n",
      "On dewy meadows, lily-pale and fair,\n",
      "Where night-blooming blooms the jasmine sweet\n",
      "And starry eyes with beauty sleep, in whispers play.\n",
      "\n",
      "A silence falls as nature's voice is still,\n",
      "As darkness gathers to a whispered tale,\n",
      "At daybreak, ere the sun takes hold of light,\n",
      "The stars themselves begin to murmur low and chill.\n",
      "O'er fields where night-shades bloom not to be told\n",
      "This fleeting life; then fades, nor can we tell.\n"
     ]
    }
   ],
   "source": [
    "response3 = client.chat.completions.create(\n",
    "  model=\"llama3-gradient\",\n",
    "  messages=messages2,\n",
    "  max_tokens=1000\n",
    ")\n",
    "print(response3.choices[0].message.content)"
   ]
  },
  {
   "cell_type": "markdown",
   "id": "f1808715-a895-480d-9524-32636d6fd13c",
   "metadata": {},
   "source": [
    "#### openchat:"
   ]
  },
  {
   "cell_type": "code",
   "execution_count": 41,
   "id": "3be157e6-3a4f-447a-b79f-494ae4c7e38f",
   "metadata": {},
   "outputs": [
    {
     "name": "stdout",
     "output_type": "stream",
     "text": [
      " Upon the meadow where the daffodils reside,\n",
      "I wander free in mind and stride.\n",
      "A world of verse and beauty, my muse finds,\n",
      "As nature's splendor whispers to my kind.\n",
      "\n",
      "The sun ascends, a golden glow it casts,\n",
      "And through the sky, the birds release their laughter.\n",
      "In these vast fields where dreams and visions bloom,\n",
      "I find my voice, as words come like thunder from the looming clouds.\n",
      "\n",
      "An ode to happiness, an elegy of woe,\n",
      "The hearts of mortals moved by my poet's flow.\n",
      "Yet even I, this bard with quill in hand,\n",
      "Must sometimes pause and wonder if transcendent thoughts I understand?\n",
      "\n",
      "In these fleeting moments, as the seasons change,\n",
      "I write with fervor to record life's nuances, its page by age.\n",
      "For though my verses may be written in ink,\n",
      "The passion they convey, no ink could ever think.\n"
     ]
    }
   ],
   "source": [
    "response4 = client.chat.completions.create(\n",
    "  model=\"openchat\",\n",
    "  messages=messages2,\n",
    "  max_tokens=1000\n",
    ")\n",
    "print(response4.choices[0].message.content)"
   ]
  },
  {
   "cell_type": "markdown",
   "id": "596c00ff-c17a-457d-9e74-b683d6e7f5a1",
   "metadata": {},
   "source": [
    "> LLama: the model produces a shorter poem, and the subject is relatively impersonal. The rhymes also only hold for the first four lines (in ABAB kind of style), and it loses this rhythm as the poem goes on.\n",
    "\n",
    "\n",
    "> Openchat: The openchat model did a better job of maintaining the rhyme (with the exception of the second verse), and took a first person perspective."
   ]
  },
  {
   "cell_type": "markdown",
   "id": "47e4ac4d-c94f-4f86-8f7e-20af44076706",
   "metadata": {},
   "source": [
    "**It's interesting to note...**\n",
    "how the two models provided different interpretations depending on the prompt; llama3-gradient offered a lengthy response to the first prompt, and did a better job at adhering to the conditions of a prompt that was more technical in nature. The second prompt, which was more subjective, was given a more thorough answer by openchat. What it's interesting is how a context window, or type of data a model is trained on, will greatly affect an output depending on what the prompt asks for."
   ]
  },
  {
   "cell_type": "code",
   "execution_count": null,
   "id": "058b92f7-c2b8-4a44-be0b-18bfffb3f9b4",
   "metadata": {},
   "outputs": [],
   "source": []
  }
 ],
 "metadata": {
  "kernelspec": {
   "display_name": "Python 3-12 (COMM4190)",
   "language": "python",
   "name": "python3-12_comm4190"
  },
  "language_info": {
   "codemirror_mode": {
    "name": "ipython",
    "version": 3
   },
   "file_extension": ".py",
   "mimetype": "text/x-python",
   "name": "python",
   "nbconvert_exporter": "python",
   "pygments_lexer": "ipython3",
   "version": "3.12.8"
  }
 },
 "nbformat": 4,
 "nbformat_minor": 5
}
